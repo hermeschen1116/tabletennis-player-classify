{
 "cells": [
  {
   "cell_type": "code",
   "execution_count": null,
   "id": "b8808cc8131b2a0c",
   "metadata": {},
   "outputs": [],
   "source": [
    "from typing import Any\n",
    "\n",
    "import numpy\n",
    "import polars\n",
    "from datasets import Dataset, load_dataset\n",
    "from sklearn.model_selection import RandomizedSearchCV\n",
    "from sklearn.neighbors import KNeighborsClassifier\n",
    "from sklearn.preprocessing import MinMaxScaler"
   ]
  },
  {
   "cell_type": "code",
   "execution_count": null,
   "id": "6fef8ede45c876e7",
   "metadata": {},
   "outputs": [],
   "source": [
    "dataset = load_dataset(\n",
    "\t\"csv\", data_dir=\"../data\", data_files={\"train\": \"train.csv\", \"test\": \"test.csv\"}, keep_in_memory=True, num_proc=8\n",
    ")"
   ]
  },
  {
   "cell_type": "code",
   "execution_count": null,
   "id": "1925e8cfc043e92f",
   "metadata": {},
   "outputs": [],
   "source": [
    "index_columns: list = [\"data_ID\", \"player_ID\"]\n",
    "label_columns: list = [\"gender\", \"hold racket handed\", \"play years\", \"level\"]\n",
    "data_columns: list = list(set(dataset[\"train\"].column_names).difference(set(index_columns + label_columns)))"
   ]
  },
  {
   "cell_type": "code",
   "execution_count": null,
   "id": "55bd29ad6c6114e3",
   "metadata": {},
   "outputs": [],
   "source": [
    "scaler = MinMaxScaler()\n",
    "scaler.fit(dataset[\"train\"].to_polars()[data_columns].to_numpy())"
   ]
  },
  {
   "cell_type": "code",
   "execution_count": null,
   "id": "341afdb74eb90c0f",
   "metadata": {},
   "outputs": [],
   "source": [
    "train_dataset: polars.DataFrame = dataset[\"train\"].to_polars()\n",
    "train_data: numpy.ndarray = scaler.transform(train_dataset[data_columns].to_numpy())\n",
    "train_label: dict[str, numpy.ndarray] = {label: train_dataset[label].to_numpy() for label in label_columns}"
   ]
  },
  {
   "cell_type": "code",
   "execution_count": null,
   "id": "2f0425220acd9019",
   "metadata": {},
   "outputs": [],
   "source": [
    "hyperparameter_grid: dict[str, list[Any]] = {\n",
    "\t\"n_neighbors\": [3, 5, 7, 9, 11],  # 鄰居數量\n",
    "\t\"weights\": [\"uniform\", \"distance\"],  # 權重類型\n",
    "\t\"algorithm\": [\"auto\", \"ball_tree\", \"kd_tree\", \"brute\"],  # 演算法類型\n",
    "\t\"leaf_size\": [20, 30, 40, 50],  # 葉節點大小\n",
    "\t\"p\": [1, 2],  # 距離度量的參數 (1 為曼哈頓距離, 2 為歐幾里得距離)\n",
    "}"
   ]
  },
  {
   "cell_type": "code",
   "execution_count": null,
   "id": "fe0b9d081c1c2da0",
   "metadata": {},
   "outputs": [],
   "source": [
    "best_classifiers: dict = {}\n",
    "for label in label_columns:\n",
    "\tprint(f\"Tune classifier for {label}\")\n",
    "\tclassifier = KNeighborsClassifier(n_jobs=-1)\n",
    "\n",
    "\tscoring: str = \"roc_auc\" if label in [\"gender\", \"hold racket handed\"] else \"roc_auc_ovr\"\n",
    "\ttuner = RandomizedSearchCV(\n",
    "\t\tclassifier, hyperparameter_grid, n_iter=100, cv=5, scoring=scoring, n_jobs=-1, verbose=10\n",
    "\t)\n",
    "\n",
    "\ttuner.fit(train_data, train_label[label])\n",
    "\n",
    "\tbest_classifiers[label] = tuner.best_estimator_"
   ]
  },
  {
   "cell_type": "code",
   "execution_count": null,
   "id": "be3f8c2a44f67456",
   "metadata": {},
   "outputs": [],
   "source": [
    "test_data: polars.DataFrame = scaler.transform(dataset[\"test\"].select_columns(data_columns).to_polars().to_numpy())"
   ]
  },
  {
   "cell_type": "code",
   "execution_count": null,
   "id": "99ff4620dbe968a3",
   "metadata": {},
   "outputs": [],
   "source": [
    "predictions: dict = {\"data_ID\": dataset[\"test\"][\"data_ID\"]}\n",
    "for label in label_columns:\n",
    "\tpredictions[label] = best_classifiers[label].predict(test_data).tolist()"
   ]
  },
  {
   "cell_type": "code",
   "execution_count": null,
   "id": "14037b48dcd20ba3",
   "metadata": {},
   "outputs": [],
   "source": [
    "test_result = Dataset.from_dict(predictions)"
   ]
  },
  {
   "cell_type": "code",
   "execution_count": null,
   "id": "ee48508bc2451cba",
   "metadata": {},
   "outputs": [],
   "source": [
    "test_result = test_result.map(\n",
    "\tlambda samples: {\n",
    "\t\t\"play years_0\": [1 if sample == 0 else 0 for sample in samples],\n",
    "\t\t\"play years_1\": [1 if sample == 1 else 0 for sample in samples],\n",
    "\t\t\"play years_2\": [1 if sample == 2 else 0 for sample in samples],\n",
    "\t},\n",
    "\tinput_columns=[\"play years\"],\n",
    "\tremove_columns=[\"play years\"],\n",
    "\tbatched=True,\n",
    "\tnum_proc=8,\n",
    ")"
   ]
  },
  {
   "cell_type": "code",
   "execution_count": null,
   "id": "d8bfde5e87b971b5",
   "metadata": {},
   "outputs": [],
   "source": [
    "test_result = test_result.map(\n",
    "\tlambda samples: {\n",
    "\t\t\"level_0\": [1 if sample == 0 else 0 for sample in samples],\n",
    "\t\t\"level_1\": [1 if sample == 1 else 0 for sample in samples],\n",
    "\t\t\"level_2\": [1 if sample == 2 else 0 for sample in samples],\n",
    "\t},\n",
    "\tinput_columns=[\"level\"],\n",
    "\tremove_columns=[\"level\"],\n",
    "\tbatched=True,\n",
    "\tnum_proc=8,\n",
    ")"
   ]
  },
  {
   "cell_type": "code",
   "execution_count": null,
   "id": "fd04dba0dc5e780c",
   "metadata": {},
   "outputs": [],
   "source": [
    "test_result"
   ]
  },
  {
   "cell_type": "code",
   "execution_count": null,
   "id": "2c4a4c413d0d5ff1",
   "metadata": {},
   "outputs": [],
   "source": [
    "test_result.to_csv(\"../dist/result_kn.csv\", num_proc=8)"
   ]
  },
  {
   "cell_type": "code",
   "execution_count": null,
   "id": "2032c4bd1b1591f0",
   "metadata": {},
   "outputs": [],
   "source": []
  }
 ],
 "metadata": {
  "kernelspec": {
   "display_name": "Python 3",
   "language": "python",
   "name": "python3"
  },
  "language_info": {
   "codemirror_mode": {
    "name": "ipython",
    "version": 2
   },
   "file_extension": ".py",
   "mimetype": "text/x-python",
   "name": "python",
   "nbconvert_exporter": "python",
   "pygments_lexer": "ipython2",
   "version": "2.7.6"
  }
 },
 "nbformat": 4,
 "nbformat_minor": 5
}
