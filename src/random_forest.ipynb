{
 "cells": [
  {
   "cell_type": "code",
   "execution_count": 1,
   "id": "b8808cc8131b2a0c",
   "metadata": {
    "ExecuteTime": {
     "end_time": "2024-11-04T05:09:00.174136Z",
     "start_time": "2024-11-04T05:08:58.167975Z"
    }
   },
   "outputs": [],
   "source": [
    "from typing import Any\n",
    "\n",
    "import numpy\n",
    "import polars\n",
    "from datasets import Dataset, load_dataset\n",
    "from sklearn.ensemble import RandomForestClassifier\n",
    "from sklearn.model_selection import RandomizedSearchCV"
   ]
  },
  {
   "cell_type": "code",
   "execution_count": 2,
   "id": "6fef8ede45c876e7",
   "metadata": {
    "ExecuteTime": {
     "end_time": "2024-11-04T05:09:01.011807Z",
     "start_time": "2024-11-04T05:09:00.187377Z"
    }
   },
   "outputs": [],
   "source": [
    "dataset = load_dataset(\n",
    "\t\"csv\", data_dir=\"../data\", data_files={\"train\": \"train.csv\", \"test\": \"test.csv\"}, keep_in_memory=True, num_proc=8\n",
    ")"
   ]
  },
  {
   "cell_type": "code",
   "execution_count": 3,
   "id": "d818bcbf78867b72",
   "metadata": {
    "ExecuteTime": {
     "end_time": "2024-11-04T05:09:01.157318Z",
     "start_time": "2024-11-04T05:09:01.133229Z"
    }
   },
   "outputs": [],
   "source": [
    "dataset_split = dataset[\"train\"].train_test_split(test_size=0.1, keep_in_memory=True)\n",
    "dataset[\"train\"], dataset[\"validation\"] = dataset_split[\"train\"], dataset_split[\"test\"]"
   ]
  },
  {
   "cell_type": "code",
   "execution_count": 4,
   "id": "1925e8cfc043e92f",
   "metadata": {
    "ExecuteTime": {
     "end_time": "2024-11-04T05:09:01.185025Z",
     "start_time": "2024-11-04T05:09:01.182066Z"
    }
   },
   "outputs": [],
   "source": [
    "index_columns: list = [\"data_ID\", \"player_ID\"]\n",
    "label_columns: list = [\"gender\", \"hold racket handed\", \"play years\", \"level\"]\n",
    "data_columns: list = list(set(dataset[\"train\"].column_names).difference(set(index_columns + label_columns)))"
   ]
  },
  {
   "cell_type": "code",
   "execution_count": 5,
   "id": "341afdb74eb90c0f",
   "metadata": {
    "ExecuteTime": {
     "end_time": "2024-11-04T05:09:04.863801Z",
     "start_time": "2024-11-04T05:09:01.191214Z"
    }
   },
   "outputs": [],
   "source": [
    "train_dataset: polars.DataFrame = dataset[\"train\"].to_polars()\n",
    "train_data: numpy.ndarray = train_dataset[data_columns].to_numpy()\n",
    "train_label: dict[str, numpy.ndarray] = {label: train_dataset[label].to_numpy() for label in label_columns}"
   ]
  },
  {
   "cell_type": "code",
   "execution_count": 6,
   "id": "87fe3658bb9915b1",
   "metadata": {
    "ExecuteTime": {
     "end_time": "2024-11-04T05:09:05.188453Z",
     "start_time": "2024-11-04T05:09:04.873407Z"
    }
   },
   "outputs": [],
   "source": [
    "validation_dataset: polars.DataFrame = dataset[\"validation\"].to_polars()\n",
    "validation_data: numpy.ndarray = validation_dataset[data_columns].to_numpy()\n",
    "validation_label: dict[str, numpy.ndarray] = {label: validation_dataset[label].to_numpy() for label in label_columns}"
   ]
  },
  {
   "cell_type": "code",
   "execution_count": 7,
   "id": "2f0425220acd9019",
   "metadata": {
    "ExecuteTime": {
     "end_time": "2024-11-04T05:09:05.197564Z",
     "start_time": "2024-11-04T05:09:05.195388Z"
    }
   },
   "outputs": [],
   "source": [
    "hyperparameter_grid: dict[str, list[Any]] = {\n",
    "\t\"n_estimators\": [50, 100, 200, 300],\n",
    "\t\"max_depth\": [None, 10, 20, 30, 40],\n",
    "\t\"min_samples_split\": [2, 5, 10, 15],\n",
    "\t\"min_samples_leaf\": [1, 2, 4, 6],\n",
    "\t\"max_features\": [\"sqrt\", \"log2\"],\n",
    "\t\"bootstrap\": [True, False],\n",
    "}"
   ]
  },
  {
   "cell_type": "code",
   "execution_count": 9,
   "id": "fe0b9d081c1c2da0",
   "metadata": {
    "ExecuteTime": {
     "end_time": "2024-11-04T05:12:04.575419Z",
     "start_time": "2024-11-04T05:09:16.599347Z"
    }
   },
   "outputs": [
    {
     "name": "stdout",
     "output_type": "stream",
     "text": [
      "Tune classifier for gender\n",
      "Fitting 5 folds for each of 1 candidates, totalling 5 fits\n",
      "Tune classifier for hold racket handed\n",
      "Fitting 5 folds for each of 1 candidates, totalling 5 fits\n",
      "Tune classifier for play years\n",
      "Fitting 5 folds for each of 1 candidates, totalling 5 fits\n",
      "Tune classifier for level\n",
      "Fitting 5 folds for each of 1 candidates, totalling 5 fits\n"
     ]
    }
   ],
   "source": [
    "best_classifiers: dict = {}\n",
    "for label in label_columns:\n",
    "\tprint(f\"Tune classifier for {label}\")\n",
    "\tclassifier = RandomForestClassifier(random_state=37)\n",
    "\n",
    "\ttuner = RandomizedSearchCV(\n",
    "\t\tclassifier, hyperparameter_grid, n_iter=50, cv=5, scoring=\"roc_auc_ovr\", n_jobs=-1, verbose=10\n",
    "\t)\n",
    "\n",
    "\ttuner.fit(train_data, train_label[label])\n",
    "\n",
    "\tbest_classifiers[label] = tuner.best_estimator_"
   ]
  },
  {
   "cell_type": "code",
   "execution_count": 17,
   "id": "be3f8c2a44f67456",
   "metadata": {
    "ExecuteTime": {
     "end_time": "2024-11-04T05:16:27.451759Z",
     "start_time": "2024-11-04T05:16:27.384645Z"
    }
   },
   "outputs": [],
   "source": [
    "test_data: polars.DataFrame = dataset[\"test\"].select_columns(data_columns).to_polars().to_numpy()"
   ]
  },
  {
   "cell_type": "code",
   "execution_count": 18,
   "id": "99ff4620dbe968a3",
   "metadata": {
    "ExecuteTime": {
     "end_time": "2024-11-04T05:16:28.060390Z",
     "start_time": "2024-11-04T05:16:27.790005Z"
    }
   },
   "outputs": [],
   "source": [
    "predictions: dict = {\"data_ID\": dataset[\"test\"][\"data_ID\"]}\n",
    "for label in label_columns:\n",
    "\tpredictions[label] = best_classifiers[label].predict(test_data).tolist()"
   ]
  },
  {
   "cell_type": "code",
   "execution_count": 19,
   "id": "14037b48dcd20ba3",
   "metadata": {
    "ExecuteTime": {
     "end_time": "2024-11-04T05:16:28.233472Z",
     "start_time": "2024-11-04T05:16:28.222693Z"
    }
   },
   "outputs": [],
   "source": [
    "test_result = Dataset.from_dict(predictions)"
   ]
  },
  {
   "cell_type": "code",
   "execution_count": 20,
   "id": "ee48508bc2451cba",
   "metadata": {
    "ExecuteTime": {
     "end_time": "2024-11-04T05:16:29.586082Z",
     "start_time": "2024-11-04T05:16:28.788743Z"
    }
   },
   "outputs": [
    {
     "data": {
      "application/vnd.jupyter.widget-view+json": {
       "model_id": "d9768c49eb4d42b9a83b8376811e9f2c",
       "version_major": 2,
       "version_minor": 0
      },
      "text/plain": [
       "Map (num_proc=8):   0%|          | 0/7488 [00:00<?, ? examples/s]"
      ]
     },
     "metadata": {},
     "output_type": "display_data"
    }
   ],
   "source": [
    "test_result = test_result.map(\n",
    "\tlambda samples: {\n",
    "\t\t\"play years_0\": [1 if sample == 0 else 0 for sample in samples],\n",
    "\t\t\"play years_1\": [1 if sample == 1 else 0 for sample in samples],\n",
    "\t\t\"play years_2\": [1 if sample == 2 else 0 for sample in samples],\n",
    "\t},\n",
    "\tinput_columns=[\"play years\"],\n",
    "\tremove_columns=[\"play years\"],\n",
    "\tbatched=True,\n",
    "\tnum_proc=8,\n",
    ")"
   ]
  },
  {
   "cell_type": "code",
   "execution_count": 21,
   "id": "d8bfde5e87b971b5",
   "metadata": {
    "ExecuteTime": {
     "end_time": "2024-11-04T05:16:30.382656Z",
     "start_time": "2024-11-04T05:16:30.202674Z"
    }
   },
   "outputs": [
    {
     "data": {
      "application/vnd.jupyter.widget-view+json": {
       "model_id": "dbec28ef354443e79d7fb3d0c4fe152a",
       "version_major": 2,
       "version_minor": 0
      },
      "text/plain": [
       "Map (num_proc=8):   0%|          | 0/7488 [00:00<?, ? examples/s]"
      ]
     },
     "metadata": {},
     "output_type": "display_data"
    }
   ],
   "source": [
    "test_result = test_result.map(\n",
    "\tlambda samples: {\n",
    "\t\t\"level_0\": [1 if sample == 0 else 0 for sample in samples],\n",
    "\t\t\"level_1\": [1 if sample == 1 else 0 for sample in samples],\n",
    "\t\t\"level_2\": [1 if sample == 2 else 0 for sample in samples],\n",
    "\t},\n",
    "\tinput_columns=[\"level\"],\n",
    "\tremove_columns=[\"level\"],\n",
    "\tbatched=True,\n",
    "\tnum_proc=8,\n",
    ")"
   ]
  },
  {
   "cell_type": "code",
   "execution_count": 22,
   "id": "fd04dba0dc5e780c",
   "metadata": {
    "ExecuteTime": {
     "end_time": "2024-11-04T05:16:30.676766Z",
     "start_time": "2024-11-04T05:16:30.672250Z"
    }
   },
   "outputs": [
    {
     "data": {
      "text/plain": [
       "Dataset({\n",
       "    features: ['data_ID', 'gender', 'hold racket handed', 'play years_0', 'play years_1', 'play years_2', 'level_0', 'level_1', 'level_2'],\n",
       "    num_rows: 7488\n",
       "})"
      ]
     },
     "execution_count": 22,
     "metadata": {},
     "output_type": "execute_result"
    }
   ],
   "source": [
    "test_result"
   ]
  },
  {
   "cell_type": "code",
   "execution_count": 23,
   "id": "2c4a4c413d0d5ff1",
   "metadata": {
    "ExecuteTime": {
     "end_time": "2024-11-04T05:16:43.911748Z",
     "start_time": "2024-11-04T05:16:43.883745Z"
    }
   },
   "outputs": [],
   "source": [
    "test_result.to_csv(\"../dist/result_rf.csv\", num_proc=8)"
   ]
  },
  {
   "cell_type": "code",
   "execution_count": null,
   "id": "2032c4bd1b1591f0",
   "metadata": {},
   "outputs": [],
   "source": []
  }
 ],
 "metadata": {
  "kernelspec": {
   "display_name": "Python 3",
   "language": "python",
   "name": "python3"
  },
  "language_info": {
   "codemirror_mode": {
    "name": "ipython",
    "version": 2
   },
   "file_extension": ".py",
   "mimetype": "text/x-python",
   "name": "python",
   "nbconvert_exporter": "python",
   "pygments_lexer": "ipython2",
   "version": "2.7.6"
  }
 },
 "nbformat": 4,
 "nbformat_minor": 5
}
