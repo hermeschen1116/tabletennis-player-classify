{
 "cells": [
  {
   "cell_type": "code",
   "execution_count": 1,
   "id": "b8808cc8131b2a0c",
   "metadata": {
    "ExecuteTime": {
     "end_time": "2024-11-04T08:35:27.424914Z",
     "start_time": "2024-11-04T08:35:25.656698Z"
    }
   },
   "outputs": [],
   "source": [
    "from typing import Any\n",
    "\n",
    "import numpy\n",
    "import polars\n",
    "from datasets import Dataset, load_dataset\n",
    "from sklearn.ensemble import RandomForestClassifier\n",
    "from sklearn.model_selection import RandomizedSearchCV"
   ]
  },
  {
   "cell_type": "code",
   "execution_count": 2,
   "id": "6fef8ede45c876e7",
   "metadata": {
    "ExecuteTime": {
     "end_time": "2024-11-04T08:35:29.051119Z",
     "start_time": "2024-11-04T08:35:28.269910Z"
    }
   },
   "outputs": [],
   "source": [
    "dataset = load_dataset(\n",
    "\t\"csv\", data_dir=\"../data\", data_files={\"train\": \"train.csv\", \"test\": \"test.csv\"}, keep_in_memory=True, num_proc=8\n",
    ")"
   ]
  },
  {
   "cell_type": "code",
   "execution_count": 21,
   "id": "d818bcbf78867b72",
   "metadata": {
    "ExecuteTime": {
     "end_time": "2024-11-04T08:58:48.741511Z",
     "start_time": "2024-11-04T08:58:48.698954Z"
    }
   },
   "outputs": [],
   "source": [
    "dataset_split = dataset[\"train\"].train_test_split(test_size=0.1, keep_in_memory=True)\n",
    "dataset[\"train\"], dataset[\"validation\"] = dataset_split[\"train\"], dataset_split[\"test\"]"
   ]
  },
  {
   "cell_type": "code",
   "execution_count": 7,
   "id": "1925e8cfc043e92f",
   "metadata": {
    "ExecuteTime": {
     "end_time": "2024-11-04T08:36:31.038990Z",
     "start_time": "2024-11-04T08:36:31.033551Z"
    }
   },
   "outputs": [],
   "source": [
    "index_columns: list = [\"data_ID\", \"player_ID\"]\n",
    "label_columns: list = [\"gender\", \"hold racket handed\", \"play years\", \"level\"]\n",
    "data_columns: list = list(set(dataset[\"train\"].column_names).difference(set(index_columns + label_columns)))"
   ]
  },
  {
   "cell_type": "code",
   "execution_count": 19,
   "id": "e612126daace061b",
   "metadata": {
    "ExecuteTime": {
     "end_time": "2024-11-04T08:57:18.751436Z",
     "start_time": "2024-11-04T08:57:18.678229Z"
    }
   },
   "outputs": [
    {
     "data": {
      "text/html": [
       "<div>\n",
       "<style scoped>\n",
       "    .dataframe tbody tr th:only-of-type {\n",
       "        vertical-align: middle;\n",
       "    }\n",
       "\n",
       "    .dataframe tbody tr th {\n",
       "        vertical-align: top;\n",
       "    }\n",
       "\n",
       "    .dataframe thead th {\n",
       "        text-align: right;\n",
       "    }\n",
       "</style>\n",
       "<table border=\"1\" class=\"dataframe\">\n",
       "  <thead>\n",
       "    <tr style=\"text-align: right;\">\n",
       "      <th></th>\n",
       "      <th>gender</th>\n",
       "      <th>hold racket handed</th>\n",
       "      <th>play years</th>\n",
       "      <th>level</th>\n",
       "    </tr>\n",
       "  </thead>\n",
       "  <tbody>\n",
       "    <tr>\n",
       "      <th>ax_mean</th>\n",
       "      <td>-0.083687</td>\n",
       "      <td>0.037874</td>\n",
       "      <td>0.006176</td>\n",
       "      <td>0.220410</td>\n",
       "    </tr>\n",
       "    <tr>\n",
       "      <th>ay_mean</th>\n",
       "      <td>0.142736</td>\n",
       "      <td>-0.050927</td>\n",
       "      <td>0.049046</td>\n",
       "      <td>-0.043791</td>\n",
       "    </tr>\n",
       "    <tr>\n",
       "      <th>az_mean</th>\n",
       "      <td>0.449442</td>\n",
       "      <td>-0.286373</td>\n",
       "      <td>0.335220</td>\n",
       "      <td>-0.349032</td>\n",
       "    </tr>\n",
       "    <tr>\n",
       "      <th>gx_mean</th>\n",
       "      <td>0.144716</td>\n",
       "      <td>-0.198805</td>\n",
       "      <td>0.233342</td>\n",
       "      <td>-0.446217</td>\n",
       "    </tr>\n",
       "    <tr>\n",
       "      <th>gy_mean</th>\n",
       "      <td>-0.149610</td>\n",
       "      <td>-0.758158</td>\n",
       "      <td>0.053580</td>\n",
       "      <td>-0.103262</td>\n",
       "    </tr>\n",
       "    <tr>\n",
       "      <th>gz_mean</th>\n",
       "      <td>-0.219187</td>\n",
       "      <td>-0.004471</td>\n",
       "      <td>-0.014535</td>\n",
       "      <td>0.090050</td>\n",
       "    </tr>\n",
       "    <tr>\n",
       "      <th>ax_var</th>\n",
       "      <td>0.142442</td>\n",
       "      <td>-0.078595</td>\n",
       "      <td>0.159223</td>\n",
       "      <td>-0.196221</td>\n",
       "    </tr>\n",
       "    <tr>\n",
       "      <th>ay_var</th>\n",
       "      <td>0.013653</td>\n",
       "      <td>-0.065022</td>\n",
       "      <td>0.091239</td>\n",
       "      <td>-0.132474</td>\n",
       "    </tr>\n",
       "    <tr>\n",
       "      <th>az_var</th>\n",
       "      <td>-0.238862</td>\n",
       "      <td>-0.052082</td>\n",
       "      <td>-0.161755</td>\n",
       "      <td>0.103757</td>\n",
       "    </tr>\n",
       "    <tr>\n",
       "      <th>gx_var</th>\n",
       "      <td>-0.309226</td>\n",
       "      <td>-0.022403</td>\n",
       "      <td>-0.262048</td>\n",
       "      <td>0.290706</td>\n",
       "    </tr>\n",
       "    <tr>\n",
       "      <th>gy_var</th>\n",
       "      <td>0.260337</td>\n",
       "      <td>-0.137713</td>\n",
       "      <td>0.157006</td>\n",
       "      <td>-0.073886</td>\n",
       "    </tr>\n",
       "    <tr>\n",
       "      <th>gz_var</th>\n",
       "      <td>0.078684</td>\n",
       "      <td>0.163110</td>\n",
       "      <td>0.190930</td>\n",
       "      <td>-0.201168</td>\n",
       "    </tr>\n",
       "    <tr>\n",
       "      <th>ax_rms</th>\n",
       "      <td>0.102745</td>\n",
       "      <td>-0.070783</td>\n",
       "      <td>0.133562</td>\n",
       "      <td>-0.174392</td>\n",
       "    </tr>\n",
       "    <tr>\n",
       "      <th>ay_rms</th>\n",
       "      <td>-0.029617</td>\n",
       "      <td>-0.023498</td>\n",
       "      <td>0.048360</td>\n",
       "      <td>-0.077211</td>\n",
       "    </tr>\n",
       "    <tr>\n",
       "      <th>az_rms</th>\n",
       "      <td>-0.159732</td>\n",
       "      <td>-0.037084</td>\n",
       "      <td>-0.108075</td>\n",
       "      <td>0.074594</td>\n",
       "    </tr>\n",
       "    <tr>\n",
       "      <th>gx_rms</th>\n",
       "      <td>-0.319300</td>\n",
       "      <td>-0.104500</td>\n",
       "      <td>-0.215763</td>\n",
       "      <td>0.194385</td>\n",
       "    </tr>\n",
       "    <tr>\n",
       "      <th>gy_rms</th>\n",
       "      <td>0.015018</td>\n",
       "      <td>0.081736</td>\n",
       "      <td>0.073542</td>\n",
       "      <td>0.096012</td>\n",
       "    </tr>\n",
       "    <tr>\n",
       "      <th>gz_rms</th>\n",
       "      <td>0.184017</td>\n",
       "      <td>0.158620</td>\n",
       "      <td>0.279329</td>\n",
       "      <td>-0.279276</td>\n",
       "    </tr>\n",
       "    <tr>\n",
       "      <th>a_max</th>\n",
       "      <td>-0.014603</td>\n",
       "      <td>-0.142936</td>\n",
       "      <td>0.021947</td>\n",
       "      <td>-0.178941</td>\n",
       "    </tr>\n",
       "    <tr>\n",
       "      <th>a_mean</th>\n",
       "      <td>-0.069335</td>\n",
       "      <td>0.017630</td>\n",
       "      <td>-0.061730</td>\n",
       "      <td>-0.048086</td>\n",
       "    </tr>\n",
       "    <tr>\n",
       "      <th>a_min</th>\n",
       "      <td>-0.082693</td>\n",
       "      <td>0.388652</td>\n",
       "      <td>-0.104427</td>\n",
       "      <td>0.105657</td>\n",
       "    </tr>\n",
       "    <tr>\n",
       "      <th>g_max</th>\n",
       "      <td>0.199549</td>\n",
       "      <td>0.207590</td>\n",
       "      <td>0.274635</td>\n",
       "      <td>-0.195385</td>\n",
       "    </tr>\n",
       "    <tr>\n",
       "      <th>g_mean</th>\n",
       "      <td>0.123036</td>\n",
       "      <td>0.519932</td>\n",
       "      <td>0.157753</td>\n",
       "      <td>0.015621</td>\n",
       "    </tr>\n",
       "    <tr>\n",
       "      <th>g_min</th>\n",
       "      <td>0.011139</td>\n",
       "      <td>0.273964</td>\n",
       "      <td>-0.002880</td>\n",
       "      <td>0.071691</td>\n",
       "    </tr>\n",
       "    <tr>\n",
       "      <th>a_fft</th>\n",
       "      <td>-0.031161</td>\n",
       "      <td>0.013239</td>\n",
       "      <td>-0.034498</td>\n",
       "      <td>0.031698</td>\n",
       "    </tr>\n",
       "    <tr>\n",
       "      <th>g_fft</th>\n",
       "      <td>-0.031161</td>\n",
       "      <td>0.013239</td>\n",
       "      <td>-0.034498</td>\n",
       "      <td>0.031698</td>\n",
       "    </tr>\n",
       "    <tr>\n",
       "      <th>a_psd</th>\n",
       "      <td>-0.008825</td>\n",
       "      <td>0.001165</td>\n",
       "      <td>-0.003180</td>\n",
       "      <td>-0.022363</td>\n",
       "    </tr>\n",
       "    <tr>\n",
       "      <th>g_psd</th>\n",
       "      <td>-0.008825</td>\n",
       "      <td>0.001165</td>\n",
       "      <td>-0.003180</td>\n",
       "      <td>-0.022363</td>\n",
       "    </tr>\n",
       "    <tr>\n",
       "      <th>a_kurt</th>\n",
       "      <td>0.053853</td>\n",
       "      <td>-0.028459</td>\n",
       "      <td>0.074513</td>\n",
       "      <td>-0.142615</td>\n",
       "    </tr>\n",
       "    <tr>\n",
       "      <th>g_kurt</th>\n",
       "      <td>0.106116</td>\n",
       "      <td>-0.156474</td>\n",
       "      <td>0.077682</td>\n",
       "      <td>-0.130023</td>\n",
       "    </tr>\n",
       "    <tr>\n",
       "      <th>a_skewn</th>\n",
       "      <td>0.082695</td>\n",
       "      <td>-0.176208</td>\n",
       "      <td>0.101914</td>\n",
       "      <td>-0.212205</td>\n",
       "    </tr>\n",
       "    <tr>\n",
       "      <th>g_skewn</th>\n",
       "      <td>0.109479</td>\n",
       "      <td>-0.329561</td>\n",
       "      <td>0.135221</td>\n",
       "      <td>-0.246185</td>\n",
       "    </tr>\n",
       "    <tr>\n",
       "      <th>a_entropy</th>\n",
       "      <td>0.002764</td>\n",
       "      <td>0.031190</td>\n",
       "      <td>0.009772</td>\n",
       "      <td>0.030085</td>\n",
       "    </tr>\n",
       "    <tr>\n",
       "      <th>g_entropy</th>\n",
       "      <td>0.002764</td>\n",
       "      <td>0.031190</td>\n",
       "      <td>0.009772</td>\n",
       "      <td>0.030085</td>\n",
       "    </tr>\n",
       "  </tbody>\n",
       "</table>\n",
       "</div>"
      ],
      "text/plain": [
       "             gender  hold racket handed  play years     level\n",
       "ax_mean   -0.083687            0.037874    0.006176  0.220410\n",
       "ay_mean    0.142736           -0.050927    0.049046 -0.043791\n",
       "az_mean    0.449442           -0.286373    0.335220 -0.349032\n",
       "gx_mean    0.144716           -0.198805    0.233342 -0.446217\n",
       "gy_mean   -0.149610           -0.758158    0.053580 -0.103262\n",
       "gz_mean   -0.219187           -0.004471   -0.014535  0.090050\n",
       "ax_var     0.142442           -0.078595    0.159223 -0.196221\n",
       "ay_var     0.013653           -0.065022    0.091239 -0.132474\n",
       "az_var    -0.238862           -0.052082   -0.161755  0.103757\n",
       "gx_var    -0.309226           -0.022403   -0.262048  0.290706\n",
       "gy_var     0.260337           -0.137713    0.157006 -0.073886\n",
       "gz_var     0.078684            0.163110    0.190930 -0.201168\n",
       "ax_rms     0.102745           -0.070783    0.133562 -0.174392\n",
       "ay_rms    -0.029617           -0.023498    0.048360 -0.077211\n",
       "az_rms    -0.159732           -0.037084   -0.108075  0.074594\n",
       "gx_rms    -0.319300           -0.104500   -0.215763  0.194385\n",
       "gy_rms     0.015018            0.081736    0.073542  0.096012\n",
       "gz_rms     0.184017            0.158620    0.279329 -0.279276\n",
       "a_max     -0.014603           -0.142936    0.021947 -0.178941\n",
       "a_mean    -0.069335            0.017630   -0.061730 -0.048086\n",
       "a_min     -0.082693            0.388652   -0.104427  0.105657\n",
       "g_max      0.199549            0.207590    0.274635 -0.195385\n",
       "g_mean     0.123036            0.519932    0.157753  0.015621\n",
       "g_min      0.011139            0.273964   -0.002880  0.071691\n",
       "a_fft     -0.031161            0.013239   -0.034498  0.031698\n",
       "g_fft     -0.031161            0.013239   -0.034498  0.031698\n",
       "a_psd     -0.008825            0.001165   -0.003180 -0.022363\n",
       "g_psd     -0.008825            0.001165   -0.003180 -0.022363\n",
       "a_kurt     0.053853           -0.028459    0.074513 -0.142615\n",
       "g_kurt     0.106116           -0.156474    0.077682 -0.130023\n",
       "a_skewn    0.082695           -0.176208    0.101914 -0.212205\n",
       "g_skewn    0.109479           -0.329561    0.135221 -0.246185\n",
       "a_entropy  0.002764            0.031190    0.009772  0.030085\n",
       "g_entropy  0.002764            0.031190    0.009772  0.030085"
      ]
     },
     "execution_count": 19,
     "metadata": {},
     "output_type": "execute_result"
    }
   ],
   "source": [
    "correlations = dataset[\"train\"].to_pandas().corr()[6:][label_columns]\n",
    "correlations"
   ]
  },
  {
   "cell_type": "code",
   "execution_count": 20,
   "id": "3e2ca1fa20b849c1",
   "metadata": {
    "ExecuteTime": {
     "end_time": "2024-11-04T08:57:19.905796Z",
     "start_time": "2024-11-04T08:57:19.900714Z"
    }
   },
   "outputs": [
    {
     "data": {
      "text/plain": [
       "{'gender': ['ay_mean',\n",
       "  'az_mean',\n",
       "  'gx_mean',\n",
       "  'ax_var',\n",
       "  'ay_var',\n",
       "  'gy_var',\n",
       "  'gz_var',\n",
       "  'ax_rms',\n",
       "  'gy_rms',\n",
       "  'gz_rms',\n",
       "  'g_max',\n",
       "  'g_mean',\n",
       "  'g_min',\n",
       "  'a_kurt',\n",
       "  'g_kurt',\n",
       "  'a_skewn',\n",
       "  'g_skewn',\n",
       "  'a_entropy',\n",
       "  'g_entropy'],\n",
       " 'hold racket handed': ['ax_mean',\n",
       "  'gz_var',\n",
       "  'gy_rms',\n",
       "  'gz_rms',\n",
       "  'a_mean',\n",
       "  'a_min',\n",
       "  'g_max',\n",
       "  'g_mean',\n",
       "  'g_min',\n",
       "  'a_fft',\n",
       "  'g_fft',\n",
       "  'a_psd',\n",
       "  'g_psd',\n",
       "  'a_entropy',\n",
       "  'g_entropy'],\n",
       " 'play years': ['ax_mean',\n",
       "  'ay_mean',\n",
       "  'az_mean',\n",
       "  'gx_mean',\n",
       "  'gy_mean',\n",
       "  'ax_var',\n",
       "  'ay_var',\n",
       "  'gy_var',\n",
       "  'gz_var',\n",
       "  'ax_rms',\n",
       "  'ay_rms',\n",
       "  'gy_rms',\n",
       "  'gz_rms',\n",
       "  'a_max',\n",
       "  'g_max',\n",
       "  'g_mean',\n",
       "  'a_kurt',\n",
       "  'g_kurt',\n",
       "  'a_skewn',\n",
       "  'g_skewn',\n",
       "  'a_entropy',\n",
       "  'g_entropy'],\n",
       " 'level': ['ax_mean',\n",
       "  'gz_mean',\n",
       "  'az_var',\n",
       "  'gx_var',\n",
       "  'az_rms',\n",
       "  'gx_rms',\n",
       "  'gy_rms',\n",
       "  'a_min',\n",
       "  'g_mean',\n",
       "  'g_min',\n",
       "  'a_fft',\n",
       "  'g_fft',\n",
       "  'a_entropy',\n",
       "  'g_entropy']}"
      ]
     },
     "execution_count": 20,
     "metadata": {},
     "output_type": "execute_result"
    }
   ],
   "source": [
    "selected_features: dict = {\n",
    "\tlabel: [k for k, v in correlations.to_dict()[label].items() if v > 0] for label in label_columns\n",
    "}\n",
    "selected_features"
   ]
  },
  {
   "cell_type": "code",
   "execution_count": 22,
   "id": "341afdb74eb90c0f",
   "metadata": {
    "ExecuteTime": {
     "end_time": "2024-11-04T08:58:54.814272Z",
     "start_time": "2024-11-04T08:58:51.093634Z"
    }
   },
   "outputs": [],
   "source": [
    "train_dataset: polars.DataFrame = dataset[\"train\"].to_polars()\n",
    "train_data: dict[str, numpy.ndarray] = {\n",
    "\tlabel: train_dataset[selected_features[label]].to_numpy() for label in label_columns\n",
    "}\n",
    "train_label: dict[str, numpy.ndarray] = {label: train_dataset[label].to_numpy() for label in label_columns}"
   ]
  },
  {
   "cell_type": "code",
   "execution_count": 23,
   "id": "87fe3658bb9915b1",
   "metadata": {
    "ExecuteTime": {
     "end_time": "2024-11-04T08:58:55.980660Z",
     "start_time": "2024-11-04T08:58:55.551908Z"
    }
   },
   "outputs": [],
   "source": [
    "validation_dataset: polars.DataFrame = dataset[\"validation\"].to_polars()\n",
    "validation_data: dict[str, numpy.ndarray] = {\n",
    "\tlabel: validation_dataset[selected_features[label]].to_numpy() for label in label_columns\n",
    "}\n",
    "validation_label: dict[str, numpy.ndarray] = {label: validation_dataset[label].to_numpy() for label in label_columns}"
   ]
  },
  {
   "cell_type": "code",
   "execution_count": 24,
   "id": "2f0425220acd9019",
   "metadata": {
    "ExecuteTime": {
     "end_time": "2024-11-04T08:58:57.777407Z",
     "start_time": "2024-11-04T08:58:57.772534Z"
    }
   },
   "outputs": [],
   "source": [
    "hyperparameter_grid: dict[str, list[Any]] = {\n",
    "\t\"n_estimators\": [50, 100, 200, 300],\n",
    "\t\"max_depth\": [None, 10, 20, 30, 40],\n",
    "\t\"min_samples_split\": [2, 5, 10, 15],\n",
    "\t\"min_samples_leaf\": [1, 2, 4, 6],\n",
    "\t\"max_features\": [\"sqrt\", \"log2\"],\n",
    "\t\"bootstrap\": [True, False],\n",
    "}"
   ]
  },
  {
   "cell_type": "code",
   "execution_count": 25,
   "id": "fe0b9d081c1c2da0",
   "metadata": {
    "ExecuteTime": {
     "end_time": "2024-11-04T08:59:11.682953Z",
     "start_time": "2024-11-04T08:59:08.448014Z"
    }
   },
   "outputs": [
    {
     "name": "stdout",
     "output_type": "stream",
     "text": [
      "Tune classifier for gender\n",
      "Fitting 5 folds for each of 50 candidates, totalling 250 fits\n"
     ]
    },
    {
     "name": "stderr",
     "output_type": "stream",
     "text": [
      "\n",
      "KeyboardInterrupt\n",
      "\n"
     ]
    }
   ],
   "source": [
    "best_classifiers: dict = {}\n",
    "for label in label_columns:\n",
    "\tprint(f\"Tune classifier for {label}\")\n",
    "\tclassifier = RandomForestClassifier(random_state=37)\n",
    "\n",
    "\ttuner = RandomizedSearchCV(\n",
    "\t\tclassifier, hyperparameter_grid, n_iter=50, cv=5, scoring=\"roc_auc_ovr\", n_jobs=-1, verbose=10\n",
    "\t)\n",
    "\n",
    "\ttuner.fit(train_data[label], train_label[label])\n",
    "\n",
    "\tbest_classifiers[label] = tuner.best_estimator_"
   ]
  },
  {
   "cell_type": "code",
   "execution_count": 17,
   "id": "be3f8c2a44f67456",
   "metadata": {
    "ExecuteTime": {
     "end_time": "2024-11-04T05:16:27.451759Z",
     "start_time": "2024-11-04T05:16:27.384645Z"
    }
   },
   "outputs": [],
   "source": [
    "test_data: dict[str, numpy.ndarray] = {\n",
    "\tlabel: dataset[\"test\"].select_columns(selected_features[label]).to_polars().to_numpy() for label in label_columns\n",
    "}"
   ]
  },
  {
   "cell_type": "code",
   "execution_count": 18,
   "id": "99ff4620dbe968a3",
   "metadata": {
    "ExecuteTime": {
     "end_time": "2024-11-04T05:16:28.060390Z",
     "start_time": "2024-11-04T05:16:27.790005Z"
    }
   },
   "outputs": [],
   "source": [
    "predictions: dict = {\"data_ID\": dataset[\"test\"][\"data_ID\"]}\n",
    "for label in label_columns:\n",
    "\tpredictions[label] = best_classifiers[label].predict(test_data[label]).tolist()"
   ]
  },
  {
   "cell_type": "code",
   "execution_count": 19,
   "id": "14037b48dcd20ba3",
   "metadata": {
    "ExecuteTime": {
     "end_time": "2024-11-04T05:16:28.233472Z",
     "start_time": "2024-11-04T05:16:28.222693Z"
    }
   },
   "outputs": [],
   "source": [
    "test_result = Dataset.from_dict(predictions)"
   ]
  },
  {
   "cell_type": "code",
   "execution_count": 20,
   "id": "ee48508bc2451cba",
   "metadata": {
    "ExecuteTime": {
     "end_time": "2024-11-04T05:16:29.586082Z",
     "start_time": "2024-11-04T05:16:28.788743Z"
    }
   },
   "outputs": [
    {
     "data": {
      "application/vnd.jupyter.widget-view+json": {
       "model_id": "d9768c49eb4d42b9a83b8376811e9f2c",
       "version_major": 2,
       "version_minor": 0
      },
      "text/plain": [
       "Map (num_proc=8):   0%|          | 0/7488 [00:00<?, ? examples/s]"
      ]
     },
     "metadata": {},
     "output_type": "display_data"
    }
   ],
   "source": [
    "test_result = test_result.map(\n",
    "\tlambda samples: {\n",
    "\t\t\"play years_0\": [1 if sample == 0 else 0 for sample in samples],\n",
    "\t\t\"play years_1\": [1 if sample == 1 else 0 for sample in samples],\n",
    "\t\t\"play years_2\": [1 if sample == 2 else 0 for sample in samples],\n",
    "\t},\n",
    "\tinput_columns=[\"play years\"],\n",
    "\tremove_columns=[\"play years\"],\n",
    "\tbatched=True,\n",
    "\tnum_proc=8,\n",
    ")"
   ]
  },
  {
   "cell_type": "code",
   "execution_count": 21,
   "id": "d8bfde5e87b971b5",
   "metadata": {
    "ExecuteTime": {
     "end_time": "2024-11-04T05:16:30.382656Z",
     "start_time": "2024-11-04T05:16:30.202674Z"
    }
   },
   "outputs": [
    {
     "data": {
      "application/vnd.jupyter.widget-view+json": {
       "model_id": "dbec28ef354443e79d7fb3d0c4fe152a",
       "version_major": 2,
       "version_minor": 0
      },
      "text/plain": [
       "Map (num_proc=8):   0%|          | 0/7488 [00:00<?, ? examples/s]"
      ]
     },
     "metadata": {},
     "output_type": "display_data"
    }
   ],
   "source": [
    "test_result = test_result.map(\n",
    "\tlambda samples: {\n",
    "\t\t\"level_0\": [1 if sample == 0 else 0 for sample in samples],\n",
    "\t\t\"level_1\": [1 if sample == 1 else 0 for sample in samples],\n",
    "\t\t\"level_2\": [1 if sample == 2 else 0 for sample in samples],\n",
    "\t},\n",
    "\tinput_columns=[\"level\"],\n",
    "\tremove_columns=[\"level\"],\n",
    "\tbatched=True,\n",
    "\tnum_proc=8,\n",
    ")"
   ]
  },
  {
   "cell_type": "code",
   "execution_count": 22,
   "id": "fd04dba0dc5e780c",
   "metadata": {
    "ExecuteTime": {
     "end_time": "2024-11-04T05:16:30.676766Z",
     "start_time": "2024-11-04T05:16:30.672250Z"
    }
   },
   "outputs": [
    {
     "data": {
      "text/plain": [
       "Dataset({\n",
       "    features: ['data_ID', 'gender', 'hold racket handed', 'play years_0', 'play years_1', 'play years_2', 'level_0', 'level_1', 'level_2'],\n",
       "    num_rows: 7488\n",
       "})"
      ]
     },
     "execution_count": 22,
     "metadata": {},
     "output_type": "execute_result"
    }
   ],
   "source": [
    "test_result"
   ]
  },
  {
   "cell_type": "code",
   "execution_count": 23,
   "id": "2c4a4c413d0d5ff1",
   "metadata": {
    "ExecuteTime": {
     "end_time": "2024-11-04T05:16:43.911748Z",
     "start_time": "2024-11-04T05:16:43.883745Z"
    }
   },
   "outputs": [],
   "source": [
    "test_result.to_csv(\"../dist/result_rf.csv\", num_proc=8)"
   ]
  },
  {
   "cell_type": "code",
   "execution_count": null,
   "id": "2032c4bd1b1591f0",
   "metadata": {},
   "outputs": [],
   "source": []
  }
 ],
 "metadata": {
  "kernelspec": {
   "display_name": "Python 3",
   "language": "python",
   "name": "python3"
  },
  "language_info": {
   "codemirror_mode": {
    "name": "ipython",
    "version": 2
   },
   "file_extension": ".py",
   "mimetype": "text/x-python",
   "name": "python",
   "nbconvert_exporter": "python",
   "pygments_lexer": "ipython2",
   "version": "2.7.6"
  }
 },
 "nbformat": 4,
 "nbformat_minor": 5
}
