{
 "cells": [
  {
   "cell_type": "code",
   "execution_count": 1,
   "id": "b8808cc8131b2a0c",
   "metadata": {
    "ExecuteTime": {
     "end_time": "2024-11-03T16:26:30.687335Z",
     "start_time": "2024-11-03T16:26:29.562428Z"
    }
   },
   "outputs": [],
   "source": [
    "from typing import Any\n",
    "\n",
    "import numpy\n",
    "import polars\n",
    "from datasets import Dataset, load_dataset\n",
    "from sklearn.ensemble import RandomForestClassifier\n",
    "from sklearn.metrics import roc_auc_score\n",
    "from sklearn.model_selection import GridSearchCV"
   ]
  },
  {
   "cell_type": "code",
   "execution_count": 2,
   "id": "6fef8ede45c876e7",
   "metadata": {
    "ExecuteTime": {
     "end_time": "2024-11-03T16:26:31.440480Z",
     "start_time": "2024-11-03T16:26:30.689891Z"
    }
   },
   "outputs": [],
   "source": [
    "dataset = load_dataset(\n",
    "\t\"csv\", data_dir=\"../data\", data_files={\"train\": \"train.csv\", \"test\": \"test.csv\"}, keep_in_memory=True, num_proc=8\n",
    ")"
   ]
  },
  {
   "cell_type": "code",
   "execution_count": 3,
   "id": "d818bcbf78867b72",
   "metadata": {
    "ExecuteTime": {
     "end_time": "2024-11-03T16:26:31.560152Z",
     "start_time": "2024-11-03T16:26:31.549607Z"
    }
   },
   "outputs": [],
   "source": [
    "dataset_split = dataset[\"train\"].train_test_split(test_size=0.1, keep_in_memory=True)\n",
    "dataset[\"train\"], dataset[\"validation\"] = dataset_split[\"train\"], dataset_split[\"test\"]"
   ]
  },
  {
   "cell_type": "code",
   "execution_count": 4,
   "id": "67f6e753fbed1efe",
   "metadata": {
    "ExecuteTime": {
     "end_time": "2024-11-03T16:26:35.206448Z",
     "start_time": "2024-11-03T16:26:31.565124Z"
    }
   },
   "outputs": [
    {
     "data": {
      "application/vnd.jupyter.widget-view+json": {
       "model_id": "69e27c2929d44841aabf4fff2f5ca50d",
       "version_major": 2,
       "version_minor": 0
      },
      "text/plain": [
       "Map (num_proc=8):   0%|          | 0/23868 [00:00<?, ? examples/s]"
      ]
     },
     "metadata": {},
     "output_type": "display_data"
    },
    {
     "data": {
      "application/vnd.jupyter.widget-view+json": {
       "model_id": "983e11734ee04fb0a38a2e529a3e624c",
       "version_major": 2,
       "version_minor": 0
      },
      "text/plain": [
       "Map (num_proc=8):   0%|          | 0/7488 [00:00<?, ? examples/s]"
      ]
     },
     "metadata": {},
     "output_type": "display_data"
    },
    {
     "data": {
      "application/vnd.jupyter.widget-view+json": {
       "model_id": "0ce9553bb45747aeafe9d53de449e244",
       "version_major": 2,
       "version_minor": 0
      },
      "text/plain": [
       "Map (num_proc=8):   0%|          | 0/2652 [00:00<?, ? examples/s]"
      ]
     },
     "metadata": {},
     "output_type": "display_data"
    }
   ],
   "source": [
    "dataset = dataset.map(\n",
    "\tlambda samples: {\n",
    "\t\t\"play years_0\": [1 if sample == 0 else 0 for sample in samples],\n",
    "\t\t\"play years_1\": [1 if sample == 1 else 0 for sample in samples],\n",
    "\t\t\"play years_2\": [1 if sample == 2 else 0 for sample in samples],\n",
    "\t},\n",
    "\tinput_columns=[\"play years\"],\n",
    "\tremove_columns=[\"play years\"],\n",
    "\tbatched=True,\n",
    "\tnum_proc=8,\n",
    ")"
   ]
  },
  {
   "cell_type": "code",
   "execution_count": 5,
   "id": "f70e540027434729",
   "metadata": {
    "ExecuteTime": {
     "end_time": "2024-11-03T16:26:36.232922Z",
     "start_time": "2024-11-03T16:26:35.212170Z"
    }
   },
   "outputs": [
    {
     "data": {
      "application/vnd.jupyter.widget-view+json": {
       "model_id": "7baa5066f50a4da7b57876b2f8724ea5",
       "version_major": 2,
       "version_minor": 0
      },
      "text/plain": [
       "Map (num_proc=8):   0%|          | 0/23868 [00:00<?, ? examples/s]"
      ]
     },
     "metadata": {},
     "output_type": "display_data"
    },
    {
     "data": {
      "application/vnd.jupyter.widget-view+json": {
       "model_id": "88bd802809334ae989e0c123a0e44597",
       "version_major": 2,
       "version_minor": 0
      },
      "text/plain": [
       "Map (num_proc=8):   0%|          | 0/7488 [00:00<?, ? examples/s]"
      ]
     },
     "metadata": {},
     "output_type": "display_data"
    },
    {
     "data": {
      "application/vnd.jupyter.widget-view+json": {
       "model_id": "6d0b0d28d2f44eb1b9024f8c19e59569",
       "version_major": 2,
       "version_minor": 0
      },
      "text/plain": [
       "Map (num_proc=8):   0%|          | 0/2652 [00:00<?, ? examples/s]"
      ]
     },
     "metadata": {},
     "output_type": "display_data"
    }
   ],
   "source": [
    "dataset = dataset.map(\n",
    "\tlambda samples: {\n",
    "\t\t\"level_0\": [1 if sample == 0 else 0 for sample in samples],\n",
    "\t\t\"level_1\": [1 if sample == 1 else 0 for sample in samples],\n",
    "\t\t\"level_2\": [1 if sample == 2 else 0 for sample in samples],\n",
    "\t},\n",
    "\tinput_columns=[\"level\"],\n",
    "\tremove_columns=[\"level\"],\n",
    "\tbatched=True,\n",
    "\tnum_proc=8,\n",
    ")"
   ]
  },
  {
   "cell_type": "code",
   "execution_count": 6,
   "id": "1925e8cfc043e92f",
   "metadata": {
    "ExecuteTime": {
     "end_time": "2024-11-03T16:26:36.240005Z",
     "start_time": "2024-11-03T16:26:36.238136Z"
    }
   },
   "outputs": [],
   "source": [
    "index_columns: list = [\"data_ID\", \"player_ID\"]\n",
    "label_columns: list = [\n",
    "\t\"gender\",\n",
    "\t\"hold racket handed\",\n",
    "\t\"play years_0\",\n",
    "\t\"play years_1\",\n",
    "\t\"play years_2\",\n",
    "\t\"level_0\",\n",
    "\t\"level_1\",\n",
    "\t\"level_2\",\n",
    "]\n",
    "data_columns: list = list(set(dataset[\"train\"].column_names).difference(set(index_columns + label_columns)))"
   ]
  },
  {
   "cell_type": "code",
   "execution_count": 7,
   "id": "341afdb74eb90c0f",
   "metadata": {
    "ExecuteTime": {
     "end_time": "2024-11-03T16:26:36.257272Z",
     "start_time": "2024-11-03T16:26:36.248060Z"
    }
   },
   "outputs": [],
   "source": [
    "train_dataset: polars.DataFrame = dataset[\"train\"].to_polars()\n",
    "train_data: numpy.ndarray = train_dataset[data_columns].to_numpy()\n",
    "train_label: dict[str, numpy.ndarray] = {label: train_dataset[label].to_numpy() for label in label_columns}"
   ]
  },
  {
   "cell_type": "code",
   "execution_count": 8,
   "id": "87fe3658bb9915b1",
   "metadata": {
    "ExecuteTime": {
     "end_time": "2024-11-03T16:26:36.267436Z",
     "start_time": "2024-11-03T16:26:36.263502Z"
    }
   },
   "outputs": [],
   "source": [
    "validation_dataset: polars.DataFrame = dataset[\"validation\"].to_polars()\n",
    "validation_data: numpy.ndarray = validation_dataset[data_columns].to_numpy()\n",
    "validation_label: dict[str, numpy.ndarray] = {label: validation_dataset[label].to_numpy() for label in label_columns}"
   ]
  },
  {
   "cell_type": "code",
   "execution_count": 9,
   "id": "2f0425220acd9019",
   "metadata": {
    "ExecuteTime": {
     "end_time": "2024-11-03T16:26:36.275361Z",
     "start_time": "2024-11-03T16:26:36.273397Z"
    }
   },
   "outputs": [],
   "source": [
    "hyperparameter_grid: dict[str, list[Any]] = {\n",
    "\t\"n_estimators\": [50, 100, 200, 300],\n",
    "\t\"max_depth\": [None, 10, 20, 30, 40],\n",
    "\t\"min_samples_split\": [2, 5, 10, 15],\n",
    "\t\"min_samples_leaf\": [1, 2, 4, 6],\n",
    "\t\"max_features\": [\"sqrt\", \"log2\"],\n",
    "\t\"bootstrap\": [True, False],\n",
    "}"
   ]
  },
  {
   "cell_type": "code",
   "execution_count": 10,
   "id": "fe0b9d081c1c2da0",
   "metadata": {
    "ExecuteTime": {
     "end_time": "2024-11-03T16:27:06.897701Z",
     "start_time": "2024-11-03T16:26:36.281925Z"
    }
   },
   "outputs": [
    {
     "name": "stdout",
     "output_type": "stream",
     "text": [
      "Tune classifier for gender\n",
      "Fitting 5 folds for each of 1280 candidates, totalling 6400 fits\n"
     ]
    },
    {
     "name": "stderr",
     "output_type": "stream",
     "text": [
      "\n",
      "KeyboardInterrupt\n",
      "\n"
     ]
    }
   ],
   "source": [
    "best_classifiers: dict = {}\n",
    "for label in label_columns:\n",
    "\tprint(f\"Tune classifier for {label}\")\n",
    "\tclassifier = RandomForestClassifier(random_state=37)\n",
    "\n",
    "\ttuner = GridSearchCV(classifier, hyperparameter_grid, cv=5, scoring=\"roc_auc_ovr\", n_jobs=-1, verbose=1)\n",
    "\n",
    "\ttuner.fit(train_data, train_label[label])\n",
    "\n",
    "\tbest_classifiers[label] = tuner.best_estimator_\n",
    "\n",
    "\ty_pred_proba = best_classifiers[label].predict_proba(validation_data)[:, 1]\n",
    "\tauc_score = roc_auc_score(validation_label[label], y_pred_proba, multi_class=\"ovr\")\n",
    "\tprint(f\"AUC score of {label} classifier: {auc_score:.4f}\")"
   ]
  },
  {
   "cell_type": "code",
   "execution_count": 39,
   "id": "be3f8c2a44f67456",
   "metadata": {
    "ExecuteTime": {
     "end_time": "2024-11-03T16:27:06.957722Z",
     "start_time": "2024-11-03T16:20:26.612933Z"
    }
   },
   "outputs": [],
   "source": [
    "test_data: polars.DataFrame = dataset[\"test\"].select_columns(data_columns).to_polars().to_numpy()"
   ]
  },
  {
   "cell_type": "code",
   "execution_count": 41,
   "id": "99ff4620dbe968a3",
   "metadata": {
    "ExecuteTime": {
     "end_time": "2024-11-03T16:27:06.957800Z",
     "start_time": "2024-11-03T16:20:35.448482Z"
    }
   },
   "outputs": [],
   "source": [
    "predictions: dict = {\"data_ID\": dataset[\"test\"][\"data_ID\"]}\n",
    "for label in label_columns:\n",
    "\tpredictions[label] = best_classifiers[label].predict(test_data).tolist()"
   ]
  },
  {
   "cell_type": "code",
   "execution_count": 42,
   "id": "14037b48dcd20ba3",
   "metadata": {
    "ExecuteTime": {
     "end_time": "2024-11-03T16:27:06.957835Z",
     "start_time": "2024-11-03T16:20:36.586114Z"
    }
   },
   "outputs": [],
   "source": [
    "test_result = Dataset.from_dict(predictions)"
   ]
  },
  {
   "cell_type": "code",
   "execution_count": 43,
   "id": "fd04dba0dc5e780c",
   "metadata": {
    "ExecuteTime": {
     "end_time": "2024-11-03T16:27:06.957856Z",
     "start_time": "2024-11-03T16:20:51.732389Z"
    }
   },
   "outputs": [
    {
     "data": {
      "text/plain": [
       "Dataset({\n",
       "    features: ['data_ID', 'gender', 'hold racket handed', 'play years_0', 'play years_1', 'play years_2', 'level_0', 'level_1', 'level_2'],\n",
       "    num_rows: 7488\n",
       "})"
      ]
     },
     "execution_count": 43,
     "metadata": {},
     "output_type": "execute_result"
    }
   ],
   "source": [
    "test_result"
   ]
  },
  {
   "cell_type": "code",
   "execution_count": 44,
   "id": "2c4a4c413d0d5ff1",
   "metadata": {
    "ExecuteTime": {
     "end_time": "2024-11-03T16:27:06.957956Z",
     "start_time": "2024-11-03T16:21:02.830774Z"
    }
   },
   "outputs": [
    {
     "data": {
      "application/vnd.jupyter.widget-view+json": {
       "model_id": "12d2883bac524b7c9309551d07918675",
       "version_major": 2,
       "version_minor": 0
      },
      "text/plain": [
       "Creating CSV from Arrow format:   0%|          | 0/8 [00:00<?, ?ba/s]"
      ]
     },
     "metadata": {},
     "output_type": "display_data"
    },
    {
     "data": {
      "text/plain": [
       "164833"
      ]
     },
     "execution_count": 44,
     "metadata": {},
     "output_type": "execute_result"
    }
   ],
   "source": [
    "test_result.to_csv(\"../dist/result_rf.csv\", num_proc=8)"
   ]
  },
  {
   "cell_type": "code",
   "execution_count": null,
   "id": "2032c4bd1b1591f0",
   "metadata": {
    "ExecuteTime": {
     "end_time": "2024-11-03T16:27:06.957987Z",
     "start_time": "2024-11-03T15:22:21.211505Z"
    }
   },
   "outputs": [],
   "source": []
  }
 ],
 "metadata": {
  "kernelspec": {
   "display_name": "Python 3",
   "language": "python",
   "name": "python3"
  },
  "language_info": {
   "codemirror_mode": {
    "name": "ipython",
    "version": 2
   },
   "file_extension": ".py",
   "mimetype": "text/x-python",
   "name": "python",
   "nbconvert_exporter": "python",
   "pygments_lexer": "ipython2",
   "version": "2.7.6"
  }
 },
 "nbformat": 4,
 "nbformat_minor": 5
}
