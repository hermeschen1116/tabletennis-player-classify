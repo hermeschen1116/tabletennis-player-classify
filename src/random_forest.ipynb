{
 "cells": [
  {
   "cell_type": "code",
   "id": "b8808cc8131b2a0c",
   "metadata": {},
   "source": [
    "from typing import Any\n",
    "\n",
    "import numpy\n",
    "import polars\n",
    "from datasets import Dataset, load_dataset\n",
    "from sklearn.ensemble import RandomForestClassifier\n",
    "from sklearn.metrics import roc_auc_score\n",
    "from sklearn.model_selection import RandomizedSearchCV"
   ],
   "outputs": [],
   "execution_count": null
  },
  {
   "cell_type": "code",
   "id": "6fef8ede45c876e7",
   "metadata": {},
   "source": [
    "dataset = load_dataset(\n",
    "\t\"csv\", data_dir=\"../data\", data_files={\"train\": \"train.csv\", \"test\": \"test.csv\"}, keep_in_memory=True, num_proc=8\n",
    ")"
   ],
   "outputs": [],
   "execution_count": null
  },
  {
   "cell_type": "code",
   "id": "d818bcbf78867b72",
   "metadata": {},
   "source": [
    "dataset_split = dataset[\"train\"].train_test_split(test_size=0.1, keep_in_memory=True)\n",
    "dataset[\"train\"], dataset[\"validation\"] = dataset_split[\"train\"], dataset_split[\"test\"]"
   ],
   "outputs": [],
   "execution_count": null
  },
  {
   "cell_type": "code",
   "id": "67f6e753fbed1efe",
   "metadata": {},
   "source": [
    "dataset = dataset.map(\n",
    "\tlambda samples: {\n",
    "\t\t\"play years_0\": [1 if sample == 0 else 0 for sample in samples],\n",
    "\t\t\"play years_1\": [1 if sample == 1 else 0 for sample in samples],\n",
    "\t\t\"play years_2\": [1 if sample == 2 else 0 for sample in samples],\n",
    "\t},\n",
    "\tinput_columns=[\"play years\"],\n",
    "\tremove_columns=[\"play years\"],\n",
    "\tbatched=True,\n",
    "\tnum_proc=8,\n",
    ")"
   ],
   "outputs": [],
   "execution_count": null
  },
  {
   "cell_type": "code",
   "id": "f70e540027434729",
   "metadata": {},
   "source": [
    "dataset = dataset.map(\n",
    "\tlambda samples: {\n",
    "\t\t\"level_0\": [1 if sample == 0 else 0 for sample in samples],\n",
    "\t\t\"level_1\": [1 if sample == 1 else 0 for sample in samples],\n",
    "\t\t\"level_2\": [1 if sample == 2 else 0 for sample in samples],\n",
    "\t},\n",
    "\tinput_columns=[\"level\"],\n",
    "\tremove_columns=[\"level\"],\n",
    "\tbatched=True,\n",
    "\tnum_proc=8,\n",
    ")"
   ],
   "outputs": [],
   "execution_count": null
  },
  {
   "cell_type": "code",
   "id": "1925e8cfc043e92f",
   "metadata": {},
   "source": [
    "index_columns: list = [\"data_ID\", \"player_ID\"]\n",
    "label_columns: list = [\n",
    "\t\"gender\",\n",
    "\t\"hold racket handed\",\n",
    "\t\"play years_0\",\n",
    "\t\"play years_1\",\n",
    "\t\"play years_2\",\n",
    "\t\"level_0\",\n",
    "\t\"level_1\",\n",
    "\t\"level_2\",\n",
    "]\n",
    "data_columns: list = list(set(dataset[\"train\"].column_names).difference(set(index_columns + label_columns)))"
   ],
   "outputs": [],
   "execution_count": null
  },
  {
   "cell_type": "code",
   "id": "341afdb74eb90c0f",
   "metadata": {},
   "source": [
    "train_dataset: polars.DataFrame = dataset[\"train\"].to_polars()\n",
    "train_data: numpy.ndarray = train_dataset[data_columns].to_numpy()\n",
    "train_label: dict[str, numpy.ndarray] = {label: train_dataset[label].to_numpy() for label in label_columns}"
   ],
   "outputs": [],
   "execution_count": null
  },
  {
   "cell_type": "code",
   "id": "87fe3658bb9915b1",
   "metadata": {},
   "source": [
    "validation_dataset: polars.DataFrame = dataset[\"validation\"].to_polars()\n",
    "validation_data: numpy.ndarray = validation_dataset[data_columns].to_numpy()\n",
    "validation_label: dict[str, numpy.ndarray] = {label: validation_dataset[label].to_numpy() for label in label_columns}"
   ],
   "outputs": [],
   "execution_count": null
  },
  {
   "cell_type": "code",
   "id": "2f0425220acd9019",
   "metadata": {},
   "source": [
    "hyperparameter_grid: dict[str, list[Any]] = {\n",
    "\t\"n_estimators\": [50, 100, 200, 300],\n",
    "\t\"max_depth\": [None, 10, 20, 30, 40],\n",
    "\t\"min_samples_split\": [2, 5, 10, 15],\n",
    "\t\"min_samples_leaf\": [1, 2, 4, 6],\n",
    "\t\"max_features\": [\"sqrt\", \"log2\"],\n",
    "\t\"bootstrap\": [True, False],\n",
    "}"
   ],
   "outputs": [],
   "execution_count": null
  },
  {
   "cell_type": "code",
   "id": "fe0b9d081c1c2da0",
   "metadata": {},
   "source": [
    "best_classifiers: dict = {}\n",
    "for label in label_columns:\n",
    "\tprint(f\"Tune classifier for {label}\")\n",
    "\tclassifier = RandomForestClassifier(random_state=37)\n",
    "\n",
    "\ttuner = RandomizedSearchCV(\n",
    "\t\tclassifier, hyperparameter_grid, n_iter=10, cv=5, scoring=\"roc_auc_ovr\", n_jobs=-1, verbose=10\n",
    "\t)\n",
    "\n",
    "\ttuner.fit(train_data, train_label[label])\n",
    "\n",
    "\tbest_classifiers[label] = tuner.best_estimator_\n",
    "\n",
    "\ty_pred_proba = best_classifiers[label].predict_proba(validation_data)[:, 1]\n",
    "\tauc_score = roc_auc_score(validation_label[label], y_pred_proba, multi_class=\"ovr\")\n",
    "\tprint(f\"AUC score of {label} classifier: {auc_score:.4f}\")"
   ],
   "outputs": [],
   "execution_count": null
  },
  {
   "cell_type": "code",
   "id": "be3f8c2a44f67456",
   "metadata": {},
   "source": [
    "test_data: polars.DataFrame = dataset[\"test\"].select_columns(data_columns).to_polars().to_numpy()"
   ],
   "outputs": [],
   "execution_count": null
  },
  {
   "cell_type": "code",
   "id": "99ff4620dbe968a3",
   "metadata": {},
   "source": [
    "predictions: dict = {\"data_ID\": dataset[\"test\"][\"data_ID\"]}\n",
    "for label in label_columns:\n",
    "\tpredictions[label] = best_classifiers[label].predict(test_data).tolist()"
   ],
   "outputs": [],
   "execution_count": null
  },
  {
   "cell_type": "code",
   "id": "14037b48dcd20ba3",
   "metadata": {},
   "source": [
    "test_result = Dataset.from_dict(predictions)"
   ],
   "outputs": [],
   "execution_count": null
  },
  {
   "cell_type": "code",
   "id": "fd04dba0dc5e780c",
   "metadata": {},
   "source": [
    "test_result"
   ],
   "outputs": [],
   "execution_count": null
  },
  {
   "cell_type": "code",
   "id": "2c4a4c413d0d5ff1",
   "metadata": {},
   "source": [
    "test_result.to_csv(\"../dist/result_rf.csv\", num_proc=8)"
   ],
   "outputs": [],
   "execution_count": null
  },
  {
   "cell_type": "code",
   "id": "2032c4bd1b1591f0",
   "metadata": {},
   "source": [],
   "outputs": [],
   "execution_count": null
  }
 ],
 "metadata": {
  "kernelspec": {
   "display_name": "Python 3",
   "language": "python",
   "name": "python3"
  },
  "language_info": {
   "codemirror_mode": {
    "name": "ipython",
    "version": 2
   },
   "file_extension": ".py",
   "mimetype": "text/x-python",
   "name": "python",
   "nbconvert_exporter": "python",
   "pygments_lexer": "ipython2",
   "version": "2.7.6"
  }
 },
 "nbformat": 4,
 "nbformat_minor": 5
}
