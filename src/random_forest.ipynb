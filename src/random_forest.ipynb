{
 "cells": [
  {
   "cell_type": "code",
   "execution_count": 3,
   "id": "b8808cc8131b2a0c",
   "metadata": {
    "ExecuteTime": {
     "end_time": "2024-11-03T18:16:27.086600Z",
     "start_time": "2024-11-03T18:16:27.083960Z"
    }
   },
   "outputs": [],
   "source": [
    "from typing import Any\n",
    "\n",
    "import numpy\n",
    "import polars\n",
    "from datasets import Dataset, load_dataset\n",
    "from sklearn.ensemble import RandomForestClassifier\n",
    "from sklearn.metrics import roc_auc_score\n",
    "from sklearn.model_selection import HalvingRandomSearchCV"
   ]
  },
  {
   "cell_type": "code",
   "execution_count": 4,
   "id": "6fef8ede45c876e7",
   "metadata": {
    "ExecuteTime": {
     "end_time": "2024-11-03T18:16:27.978539Z",
     "start_time": "2024-11-03T18:16:27.090375Z"
    }
   },
   "outputs": [],
   "source": [
    "dataset = load_dataset(\n",
    "\t\"csv\", data_dir=\"../data\", data_files={\"train\": \"train.csv\", \"test\": \"test.csv\"}, keep_in_memory=True, num_proc=8\n",
    ")"
   ]
  },
  {
   "cell_type": "code",
   "execution_count": 5,
   "id": "d818bcbf78867b72",
   "metadata": {
    "ExecuteTime": {
     "end_time": "2024-11-03T18:16:27.996192Z",
     "start_time": "2024-11-03T18:16:27.984414Z"
    }
   },
   "outputs": [],
   "source": [
    "dataset_split = dataset[\"train\"].train_test_split(test_size=0.1, keep_in_memory=True)\n",
    "dataset[\"train\"], dataset[\"validation\"] = dataset_split[\"train\"], dataset_split[\"test\"]"
   ]
  },
  {
   "cell_type": "code",
   "execution_count": 6,
   "id": "67f6e753fbed1efe",
   "metadata": {
    "ExecuteTime": {
     "end_time": "2024-11-03T18:16:31.765802Z",
     "start_time": "2024-11-03T18:16:28.000674Z"
    }
   },
   "outputs": [
    {
     "data": {
      "application/vnd.jupyter.widget-view+json": {
       "model_id": "b37474e8e02c456cb000af2e9d258a66",
       "version_major": 2,
       "version_minor": 0
      },
      "text/plain": [
       "Map (num_proc=8):   0%|          | 0/23868 [00:00<?, ? examples/s]"
      ]
     },
     "metadata": {},
     "output_type": "display_data"
    },
    {
     "data": {
      "application/vnd.jupyter.widget-view+json": {
       "model_id": "d7bb5a06be9d454baa2e9ff7897c87c2",
       "version_major": 2,
       "version_minor": 0
      },
      "text/plain": [
       "Map (num_proc=8):   0%|          | 0/7488 [00:00<?, ? examples/s]"
      ]
     },
     "metadata": {},
     "output_type": "display_data"
    },
    {
     "data": {
      "application/vnd.jupyter.widget-view+json": {
       "model_id": "a27ba93dfd164b8e8f6120e8b71d77be",
       "version_major": 2,
       "version_minor": 0
      },
      "text/plain": [
       "Map (num_proc=8):   0%|          | 0/2652 [00:00<?, ? examples/s]"
      ]
     },
     "metadata": {},
     "output_type": "display_data"
    }
   ],
   "source": [
    "dataset = dataset.map(\n",
    "\tlambda samples: {\n",
    "\t\t\"play years_0\": [1 if sample == 0 else 0 for sample in samples],\n",
    "\t\t\"play years_1\": [1 if sample == 1 else 0 for sample in samples],\n",
    "\t\t\"play years_2\": [1 if sample == 2 else 0 for sample in samples],\n",
    "\t},\n",
    "\tinput_columns=[\"play years\"],\n",
    "\tremove_columns=[\"play years\"],\n",
    "\tbatched=True,\n",
    "\tnum_proc=8,\n",
    ")"
   ]
  },
  {
   "cell_type": "code",
   "execution_count": 7,
   "id": "f70e540027434729",
   "metadata": {
    "ExecuteTime": {
     "end_time": "2024-11-03T18:16:32.880786Z",
     "start_time": "2024-11-03T18:16:31.772362Z"
    }
   },
   "outputs": [
    {
     "data": {
      "application/vnd.jupyter.widget-view+json": {
       "model_id": "6c0e547b44b94c96b0ce8191fb5dec1c",
       "version_major": 2,
       "version_minor": 0
      },
      "text/plain": [
       "Map (num_proc=8):   0%|          | 0/23868 [00:00<?, ? examples/s]"
      ]
     },
     "metadata": {},
     "output_type": "display_data"
    },
    {
     "data": {
      "application/vnd.jupyter.widget-view+json": {
       "model_id": "0990f779dc224030bf2858ab6c1e109f",
       "version_major": 2,
       "version_minor": 0
      },
      "text/plain": [
       "Map (num_proc=8):   0%|          | 0/7488 [00:00<?, ? examples/s]"
      ]
     },
     "metadata": {},
     "output_type": "display_data"
    },
    {
     "data": {
      "application/vnd.jupyter.widget-view+json": {
       "model_id": "b6edeae639cd455482dd75dc425bb045",
       "version_major": 2,
       "version_minor": 0
      },
      "text/plain": [
       "Map (num_proc=8):   0%|          | 0/2652 [00:00<?, ? examples/s]"
      ]
     },
     "metadata": {},
     "output_type": "display_data"
    }
   ],
   "source": [
    "dataset = dataset.map(\n",
    "\tlambda samples: {\n",
    "\t\t\"level_0\": [1 if sample == 0 else 0 for sample in samples],\n",
    "\t\t\"level_1\": [1 if sample == 1 else 0 for sample in samples],\n",
    "\t\t\"level_2\": [1 if sample == 2 else 0 for sample in samples],\n",
    "\t},\n",
    "\tinput_columns=[\"level\"],\n",
    "\tremove_columns=[\"level\"],\n",
    "\tbatched=True,\n",
    "\tnum_proc=8,\n",
    ")"
   ]
  },
  {
   "cell_type": "code",
   "execution_count": 8,
   "id": "1925e8cfc043e92f",
   "metadata": {
    "ExecuteTime": {
     "end_time": "2024-11-03T18:16:32.889134Z",
     "start_time": "2024-11-03T18:16:32.886777Z"
    }
   },
   "outputs": [],
   "source": [
    "index_columns: list = [\"data_ID\", \"player_ID\"]\n",
    "label_columns: list = [\n",
    "\t\"gender\",\n",
    "\t\"hold racket handed\",\n",
    "\t\"play years_0\",\n",
    "\t\"play years_1\",\n",
    "\t\"play years_2\",\n",
    "\t\"level_0\",\n",
    "\t\"level_1\",\n",
    "\t\"level_2\",\n",
    "]\n",
    "data_columns: list = list(set(dataset[\"train\"].column_names).difference(set(index_columns + label_columns)))"
   ]
  },
  {
   "cell_type": "code",
   "execution_count": 9,
   "id": "341afdb74eb90c0f",
   "metadata": {
    "ExecuteTime": {
     "end_time": "2024-11-03T18:16:32.907553Z",
     "start_time": "2024-11-03T18:16:32.894881Z"
    }
   },
   "outputs": [],
   "source": [
    "train_dataset: polars.DataFrame = dataset[\"train\"].to_polars()\n",
    "train_data: numpy.ndarray = train_dataset[data_columns].to_numpy()\n",
    "train_label: dict[str, numpy.ndarray] = {label: train_dataset[label].to_numpy() for label in label_columns}"
   ]
  },
  {
   "cell_type": "code",
   "execution_count": 10,
   "id": "87fe3658bb9915b1",
   "metadata": {
    "ExecuteTime": {
     "end_time": "2024-11-03T18:16:32.917908Z",
     "start_time": "2024-11-03T18:16:32.913327Z"
    }
   },
   "outputs": [],
   "source": [
    "validation_dataset: polars.DataFrame = dataset[\"validation\"].to_polars()\n",
    "validation_data: numpy.ndarray = validation_dataset[data_columns].to_numpy()\n",
    "validation_label: dict[str, numpy.ndarray] = {label: validation_dataset[label].to_numpy() for label in label_columns}"
   ]
  },
  {
   "cell_type": "code",
   "execution_count": 11,
   "id": "2f0425220acd9019",
   "metadata": {
    "ExecuteTime": {
     "end_time": "2024-11-03T18:16:32.927511Z",
     "start_time": "2024-11-03T18:16:32.925510Z"
    }
   },
   "outputs": [],
   "source": [
    "hyperparameter_grid: dict[str, list[Any]] = {\n",
    "\t\"n_estimators\": [50, 100, 200, 300],\n",
    "\t\"max_depth\": [None, 10, 20, 30, 40],\n",
    "\t\"min_samples_split\": [2, 5, 10, 15],\n",
    "\t\"min_samples_leaf\": [1, 2, 4, 6],\n",
    "\t\"max_features\": [\"sqrt\", \"log2\"],\n",
    "\t\"bootstrap\": [True, False],\n",
    "}"
   ]
  },
  {
   "cell_type": "code",
   "execution_count": 12,
   "id": "fe0b9d081c1c2da0",
   "metadata": {
    "ExecuteTime": {
     "end_time": "2024-11-03T18:16:33.031159Z",
     "start_time": "2024-11-03T18:16:32.934419Z"
    }
   },
   "outputs": [
    {
     "name": "stdout",
     "output_type": "stream",
     "text": [
      "Tune classifier for gender\n"
     ]
    },
    {
     "ename": "InvalidParameterError",
     "evalue": "The 'max_resources' parameter of HalvingRandomSearchCV must be an int in the range (0, inf) or a str among {'auto'}. Got 'exhaust' instead.",
     "output_type": "error",
     "traceback": [
      "\u001b[0;31m---------------------------------------------------------------------------\u001b[0m",
      "\u001b[0;31mInvalidParameterError\u001b[0m                     Traceback (most recent call last)",
      "Cell \u001b[0;32mIn[12], line 8\u001b[0m\n\u001b[1;32m      4\u001b[0m classifier \u001b[38;5;241m=\u001b[39m RandomForestClassifier(random_state\u001b[38;5;241m=\u001b[39m\u001b[38;5;241m37\u001b[39m)\n\u001b[1;32m      6\u001b[0m tuner \u001b[38;5;241m=\u001b[39m HalvingRandomSearchCV(classifier, hyperparameter_grid,n_candidates\u001b[38;5;241m=\u001b[39m\u001b[38;5;241m50\u001b[39m, factor\u001b[38;5;241m=\u001b[39m\u001b[38;5;241m3\u001b[39m, max_resources\u001b[38;5;241m=\u001b[39m\u001b[38;5;124m\"\u001b[39m\u001b[38;5;124mexhaust\u001b[39m\u001b[38;5;124m\"\u001b[39m, cv\u001b[38;5;241m=\u001b[39m\u001b[38;5;241m5\u001b[39m, scoring\u001b[38;5;241m=\u001b[39m\u001b[38;5;124m\"\u001b[39m\u001b[38;5;124mroc_auc_ovr\u001b[39m\u001b[38;5;124m\"\u001b[39m, n_jobs\u001b[38;5;241m=\u001b[39m\u001b[38;5;241m-\u001b[39m\u001b[38;5;241m1\u001b[39m, verbose\u001b[38;5;241m=\u001b[39m\u001b[38;5;241m1\u001b[39m)\n\u001b[0;32m----> 8\u001b[0m \u001b[43mtuner\u001b[49m\u001b[38;5;241;43m.\u001b[39;49m\u001b[43mfit\u001b[49m\u001b[43m(\u001b[49m\u001b[43mtrain_data\u001b[49m\u001b[43m,\u001b[49m\u001b[43m \u001b[49m\u001b[43mtrain_label\u001b[49m\u001b[43m[\u001b[49m\u001b[43mlabel\u001b[49m\u001b[43m]\u001b[49m\u001b[43m)\u001b[49m\n\u001b[1;32m     10\u001b[0m best_classifiers[label] \u001b[38;5;241m=\u001b[39m tuner\u001b[38;5;241m.\u001b[39mbest_estimator_\n\u001b[1;32m     12\u001b[0m y_pred_proba \u001b[38;5;241m=\u001b[39m best_classifiers[label]\u001b[38;5;241m.\u001b[39mpredict_proba(validation_data)[:, \u001b[38;5;241m1\u001b[39m]\n",
      "File \u001b[0;32m~/Repo/tabletenis-player-classify/.venv/lib/python3.12/site-packages/sklearn/base.py:1432\u001b[0m, in \u001b[0;36m_fit_context.<locals>.decorator.<locals>.wrapper\u001b[0;34m(estimator, *args, **kwargs)\u001b[0m\n\u001b[1;32m   1429\u001b[0m partial_fit_and_fitted \u001b[38;5;241m=\u001b[39m fit_method\u001b[38;5;241m.\u001b[39m\u001b[38;5;18m__name__\u001b[39m \u001b[38;5;241m==\u001b[39m \u001b[38;5;124m\"\u001b[39m\u001b[38;5;124mpartial_fit\u001b[39m\u001b[38;5;124m\"\u001b[39m \u001b[38;5;129;01mand\u001b[39;00m _is_fitted(estimator)\n\u001b[1;32m   1431\u001b[0m \u001b[38;5;28;01mif\u001b[39;00m \u001b[38;5;129;01mnot\u001b[39;00m global_skip_validation \u001b[38;5;129;01mand\u001b[39;00m \u001b[38;5;129;01mnot\u001b[39;00m partial_fit_and_fitted:\n\u001b[0;32m-> 1432\u001b[0m     \u001b[43mestimator\u001b[49m\u001b[38;5;241;43m.\u001b[39;49m\u001b[43m_validate_params\u001b[49m\u001b[43m(\u001b[49m\u001b[43m)\u001b[49m\n\u001b[1;32m   1434\u001b[0m \u001b[38;5;28;01mwith\u001b[39;00m config_context(skip_parameter_validation\u001b[38;5;241m=\u001b[39m(prefer_skip_nested_validation \u001b[38;5;129;01mor\u001b[39;00m global_skip_validation)):\n\u001b[1;32m   1435\u001b[0m     \u001b[38;5;28;01mreturn\u001b[39;00m fit_method(estimator, \u001b[38;5;241m*\u001b[39margs, \u001b[38;5;241m*\u001b[39m\u001b[38;5;241m*\u001b[39mkwargs)\n",
      "File \u001b[0;32m~/Repo/tabletenis-player-classify/.venv/lib/python3.12/site-packages/sklearn/base.py:645\u001b[0m, in \u001b[0;36mBaseEstimator._validate_params\u001b[0;34m(self)\u001b[0m\n\u001b[1;32m    637\u001b[0m \u001b[38;5;28;01mdef\u001b[39;00m \u001b[38;5;21m_validate_params\u001b[39m(\u001b[38;5;28mself\u001b[39m):\n\u001b[1;32m    638\u001b[0m \u001b[38;5;250m    \u001b[39m\u001b[38;5;124;03m\"\"\"Validate types and values of constructor parameters\u001b[39;00m\n\u001b[1;32m    639\u001b[0m \n\u001b[1;32m    640\u001b[0m \u001b[38;5;124;03m    The expected type and values must be defined in the `_parameter_constraints`\u001b[39;00m\n\u001b[0;32m   (...)\u001b[0m\n\u001b[1;32m    643\u001b[0m \u001b[38;5;124;03m    accepted constraints.\u001b[39;00m\n\u001b[1;32m    644\u001b[0m \u001b[38;5;124;03m    \"\"\"\u001b[39;00m\n\u001b[0;32m--> 645\u001b[0m     \u001b[43mvalidate_parameter_constraints\u001b[49m\u001b[43m(\u001b[49m\n\u001b[1;32m    646\u001b[0m \u001b[43m        \u001b[49m\u001b[38;5;28;43mself\u001b[39;49m\u001b[38;5;241;43m.\u001b[39;49m\u001b[43m_parameter_constraints\u001b[49m\u001b[43m,\u001b[49m\n\u001b[1;32m    647\u001b[0m \u001b[43m        \u001b[49m\u001b[38;5;28;43mself\u001b[39;49m\u001b[38;5;241;43m.\u001b[39;49m\u001b[43mget_params\u001b[49m\u001b[43m(\u001b[49m\u001b[43mdeep\u001b[49m\u001b[38;5;241;43m=\u001b[39;49m\u001b[38;5;28;43;01mFalse\u001b[39;49;00m\u001b[43m)\u001b[49m\u001b[43m,\u001b[49m\n\u001b[1;32m    648\u001b[0m \u001b[43m        \u001b[49m\u001b[43mcaller_name\u001b[49m\u001b[38;5;241;43m=\u001b[39;49m\u001b[38;5;28;43mself\u001b[39;49m\u001b[38;5;241;43m.\u001b[39;49m\u001b[38;5;18;43m__class__\u001b[39;49m\u001b[38;5;241;43m.\u001b[39;49m\u001b[38;5;18;43m__name__\u001b[39;49m\u001b[43m,\u001b[49m\n\u001b[1;32m    649\u001b[0m \u001b[43m    \u001b[49m\u001b[43m)\u001b[49m\n",
      "File \u001b[0;32m~/Repo/tabletenis-player-classify/.venv/lib/python3.12/site-packages/sklearn/utils/_param_validation.py:90\u001b[0m, in \u001b[0;36mvalidate_parameter_constraints\u001b[0;34m(parameter_constraints, params, caller_name)\u001b[0m\n\u001b[1;32m     87\u001b[0m \u001b[38;5;28;01melse\u001b[39;00m:\n\u001b[1;32m     88\u001b[0m     constraints_str \u001b[38;5;241m=\u001b[39m \u001b[38;5;124mf\u001b[39m\u001b[38;5;124m\"\u001b[39m\u001b[38;5;132;01m{\u001b[39;00m\u001b[38;5;124m'\u001b[39m\u001b[38;5;124m, \u001b[39m\u001b[38;5;124m'\u001b[39m\u001b[38;5;241m.\u001b[39mjoin([\u001b[38;5;28mstr\u001b[39m(c)\u001b[38;5;250m \u001b[39m\u001b[38;5;28;01mfor\u001b[39;00m\u001b[38;5;250m \u001b[39mc\u001b[38;5;250m \u001b[39m\u001b[38;5;129;01min\u001b[39;00m\u001b[38;5;250m \u001b[39mconstraints[:\u001b[38;5;241m-\u001b[39m\u001b[38;5;241m1\u001b[39m]])\u001b[38;5;132;01m}\u001b[39;00m\u001b[38;5;124m or\u001b[39m\u001b[38;5;124m\"\u001b[39m \u001b[38;5;124mf\u001b[39m\u001b[38;5;124m\"\u001b[39m\u001b[38;5;124m \u001b[39m\u001b[38;5;132;01m{\u001b[39;00mconstraints[\u001b[38;5;241m-\u001b[39m\u001b[38;5;241m1\u001b[39m]\u001b[38;5;132;01m}\u001b[39;00m\u001b[38;5;124m\"\u001b[39m\n\u001b[0;32m---> 90\u001b[0m \u001b[38;5;28;01mraise\u001b[39;00m InvalidParameterError(\n\u001b[1;32m     91\u001b[0m     \u001b[38;5;124mf\u001b[39m\u001b[38;5;124m\"\u001b[39m\u001b[38;5;124mThe \u001b[39m\u001b[38;5;132;01m{\u001b[39;00mparam_name\u001b[38;5;132;01m!r}\u001b[39;00m\u001b[38;5;124m parameter of \u001b[39m\u001b[38;5;132;01m{\u001b[39;00mcaller_name\u001b[38;5;132;01m}\u001b[39;00m\u001b[38;5;124m must be\u001b[39m\u001b[38;5;124m\"\u001b[39m\n\u001b[1;32m     92\u001b[0m     \u001b[38;5;124mf\u001b[39m\u001b[38;5;124m\"\u001b[39m\u001b[38;5;124m \u001b[39m\u001b[38;5;132;01m{\u001b[39;00mconstraints_str\u001b[38;5;132;01m}\u001b[39;00m\u001b[38;5;124m. Got \u001b[39m\u001b[38;5;132;01m{\u001b[39;00mparam_val\u001b[38;5;132;01m!r}\u001b[39;00m\u001b[38;5;124m instead.\u001b[39m\u001b[38;5;124m\"\u001b[39m\n\u001b[1;32m     93\u001b[0m )\n",
      "\u001b[0;31mInvalidParameterError\u001b[0m: The 'max_resources' parameter of HalvingRandomSearchCV must be an int in the range (0, inf) or a str among {'auto'}. Got 'exhaust' instead."
     ]
    }
   ],
   "source": [
    "best_classifiers: dict = {}\n",
    "for label in label_columns:\n",
    "\tprint(f\"Tune classifier for {label}\")\n",
    "\tclassifier = RandomForestClassifier(random_state=37)\n",
    "\n",
    "\ttuner = HalvingRandomSearchCV(\n",
    "\t\tclassifier, hyperparameter_grid, n_candidates=50, factor=3, cv=5, scoring=\"roc_auc_ovr\", n_jobs=-1, verbose=1\n",
    "\t)\n",
    "\n",
    "\ttuner.fit(train_data, train_label[label])\n",
    "\n",
    "\tbest_classifiers[label] = tuner.best_estimator_\n",
    "\n",
    "\ty_pred_proba = best_classifiers[label].predict_proba(validation_data)[:, 1]\n",
    "\tauc_score = roc_auc_score(validation_label[label], y_pred_proba, multi_class=\"ovr\")\n",
    "\tprint(f\"AUC score of {label} classifier: {auc_score:.4f}\")"
   ]
  },
  {
   "cell_type": "code",
   "execution_count": 39,
   "id": "be3f8c2a44f67456",
   "metadata": {
    "ExecuteTime": {
     "end_time": "2024-11-03T18:16:33.034262Z",
     "start_time": "2024-11-03T16:20:26.612933Z"
    }
   },
   "outputs": [],
   "source": [
    "test_data: polars.DataFrame = dataset[\"test\"].select_columns(data_columns).to_polars().to_numpy()"
   ]
  },
  {
   "cell_type": "code",
   "execution_count": 41,
   "id": "99ff4620dbe968a3",
   "metadata": {
    "ExecuteTime": {
     "end_time": "2024-11-03T18:16:33.034352Z",
     "start_time": "2024-11-03T16:20:35.448482Z"
    }
   },
   "outputs": [],
   "source": [
    "predictions: dict = {\"data_ID\": dataset[\"test\"][\"data_ID\"]}\n",
    "for label in label_columns:\n",
    "\tpredictions[label] = best_classifiers[label].predict(test_data).tolist()"
   ]
  },
  {
   "cell_type": "code",
   "execution_count": 42,
   "id": "14037b48dcd20ba3",
   "metadata": {
    "ExecuteTime": {
     "end_time": "2024-11-03T18:16:33.034396Z",
     "start_time": "2024-11-03T16:20:36.586114Z"
    }
   },
   "outputs": [],
   "source": [
    "test_result = Dataset.from_dict(predictions)"
   ]
  },
  {
   "cell_type": "code",
   "execution_count": 43,
   "id": "fd04dba0dc5e780c",
   "metadata": {
    "ExecuteTime": {
     "end_time": "2024-11-03T18:16:33.034433Z",
     "start_time": "2024-11-03T16:20:51.732389Z"
    }
   },
   "outputs": [
    {
     "data": {
      "text/plain": [
       "Dataset({\n",
       "    features: ['data_ID', 'gender', 'hold racket handed', 'play years_0', 'play years_1', 'play years_2', 'level_0', 'level_1', 'level_2'],\n",
       "    num_rows: 7488\n",
       "})"
      ]
     },
     "execution_count": 43,
     "metadata": {},
     "output_type": "execute_result"
    }
   ],
   "source": [
    "test_result"
   ]
  },
  {
   "cell_type": "code",
   "execution_count": 44,
   "id": "2c4a4c413d0d5ff1",
   "metadata": {
    "ExecuteTime": {
     "end_time": "2024-11-03T18:16:33.034518Z",
     "start_time": "2024-11-03T16:21:02.830774Z"
    }
   },
   "outputs": [
    {
     "data": {
      "application/vnd.jupyter.widget-view+json": {
       "model_id": "12d2883bac524b7c9309551d07918675",
       "version_major": 2,
       "version_minor": 0
      },
      "text/plain": [
       "Creating CSV from Arrow format:   0%|          | 0/8 [00:00<?, ?ba/s]"
      ]
     },
     "metadata": {},
     "output_type": "display_data"
    },
    {
     "data": {
      "text/plain": [
       "164833"
      ]
     },
     "execution_count": 44,
     "metadata": {},
     "output_type": "execute_result"
    }
   ],
   "source": [
    "test_result.to_csv(\"../dist/result_rf.csv\", num_proc=8)"
   ]
  },
  {
   "cell_type": "code",
   "execution_count": null,
   "id": "2032c4bd1b1591f0",
   "metadata": {
    "ExecuteTime": {
     "end_time": "2024-11-03T18:16:33.034586Z",
     "start_time": "2024-11-03T15:22:21.211505Z"
    }
   },
   "outputs": [],
   "source": []
  }
 ],
 "metadata": {
  "kernelspec": {
   "display_name": "Python 3",
   "language": "python",
   "name": "python3"
  },
  "language_info": {
   "codemirror_mode": {
    "name": "ipython",
    "version": 2
   },
   "file_extension": ".py",
   "mimetype": "text/x-python",
   "name": "python",
   "nbconvert_exporter": "python",
   "pygments_lexer": "ipython2",
   "version": "2.7.6"
  }
 },
 "nbformat": 4,
 "nbformat_minor": 5
}
