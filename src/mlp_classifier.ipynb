{
 "cells": [
  {
   "cell_type": "code",
   "execution_count": null,
   "id": "b8808cc8131b2a0c",
   "metadata": {},
   "outputs": [],
   "source": [
    "from typing import Any\n",
    "\n",
    "import numpy\n",
    "import polars\n",
    "from datasets import Dataset, load_dataset\n",
    "from sklearn.experimental import enable_halving_search_cv\n",
    "from sklearn.metrics import roc_auc_score\n",
    "from sklearn.model_selection import HalvingRandomSearchCV, train_test_split\n",
    "from sklearn.neural_network import MLPClassifier\n",
    "from sklearn.preprocessing import StandardScaler"
   ]
  },
  {
   "cell_type": "code",
   "execution_count": null,
   "id": "174c8c96635ec5ab",
   "metadata": {},
   "outputs": [],
   "source": []
  },
  {
   "cell_type": "code",
   "execution_count": null,
   "id": "6fef8ede45c876e7",
   "metadata": {},
   "outputs": [],
   "source": [
    "dataset = load_dataset(\n",
    "\t\"csv\", data_dir=\"../data\", data_files={\"train\": \"train.csv\", \"test\": \"test.csv\"}, keep_in_memory=True, num_proc=8\n",
    ")"
   ]
  },
  {
   "cell_type": "code",
   "execution_count": null,
   "id": "67f6e753fbed1efe",
   "metadata": {},
   "outputs": [],
   "source": [
    "dataset = dataset.map(\n",
    "\tlambda samples: {\n",
    "\t\t\"play years_0\": [1 if sample == 0 else 0 for sample in samples],\n",
    "\t\t\"play years_1\": [1 if sample == 1 else 0 for sample in samples],\n",
    "\t\t\"play years_2\": [1 if sample == 2 else 0 for sample in samples],\n",
    "\t},\n",
    "\tinput_columns=[\"play years\"],\n",
    "\tremove_columns=[\"play years\"],\n",
    "\tbatched=True,\n",
    "\tnum_proc=8,\n",
    ")"
   ]
  },
  {
   "cell_type": "code",
   "execution_count": null,
   "id": "f70e540027434729",
   "metadata": {},
   "outputs": [],
   "source": [
    "dataset = dataset.map(\n",
    "\tlambda samples: {\n",
    "\t\t\"level_0\": [1 if sample == 0 else 0 for sample in samples],\n",
    "\t\t\"level_1\": [1 if sample == 1 else 0 for sample in samples],\n",
    "\t\t\"level_2\": [1 if sample == 2 else 0 for sample in samples],\n",
    "\t},\n",
    "\tinput_columns=[\"level\"],\n",
    "\tremove_columns=[\"level\"],\n",
    "\tbatched=True,\n",
    "\tnum_proc=8,\n",
    ")"
   ]
  },
  {
   "cell_type": "code",
   "execution_count": null,
   "id": "1925e8cfc043e92f",
   "metadata": {},
   "outputs": [],
   "source": [
    "index_columns: list = [\"data_ID\", \"player_ID\"]\n",
    "label_columns: list = [\n",
    "\t\"gender\",\n",
    "\t\"hold racket handed\",\n",
    "\t\"play years_0\",\n",
    "\t\"play years_1\",\n",
    "\t\"play years_2\",\n",
    "\t\"level_0\",\n",
    "\t\"level_1\",\n",
    "\t\"level_2\",\n",
    "]\n",
    "data_columns: list = list(set(dataset[\"train\"].column_names).difference(set(index_columns + label_columns)))"
   ]
  },
  {
   "cell_type": "code",
   "execution_count": null,
   "id": "984dccb5894e720",
   "metadata": {},
   "outputs": [],
   "source": [
    "data_columns"
   ]
  },
  {
   "cell_type": "code",
   "execution_count": null,
   "id": "6ca982894cdd9ea3",
   "metadata": {},
   "outputs": [],
   "source": [
    "scaler = StandardScaler()"
   ]
  },
  {
   "cell_type": "code",
   "execution_count": null,
   "id": "341afdb74eb90c0f",
   "metadata": {},
   "outputs": [],
   "source": [
    "train_dataset: polars.DataFrame = dataset[\"train\"].to_polars()\n",
    "train_data: numpy.ndarray = scaler.fit_transform(train_dataset[data_columns].to_numpy())\n",
    "train_data, validation_data, t_label, v_label = train_test_split(\n",
    "\ttrain_data, train_dataset[label_columns].to_numpy(), test_size=0.1, random_state=37\n",
    ")\n",
    "train_label: dict[str, numpy.ndarray] = {label: t_label[:, i] for i, label in enumerate(label_columns)}\n",
    "validation_label: dict[str, numpy.ndarray] = {label: v_label[:, i] for i, label in enumerate(label_columns)}"
   ]
  },
  {
   "cell_type": "code",
   "execution_count": null,
   "id": "2f0425220acd9019",
   "metadata": {},
   "outputs": [],
   "source": [
    "hyperparameter_grid: dict[str, list[Any]] = {\n",
    "\t\"hidden_layer_sizes\": [(50,), (100,), (200,), (50, 50), (100, 50), (100, 100)],\n",
    "\t\"activation\": [\"identity\", \"logistic\", \"tanh\", \"relu\"],\n",
    "\t\"solver\": [\"adam\", \"sgd\", \"lbfgs\"],\n",
    "\t\"learning_rate\": [\"constant\", \"adaptive\", \"invscaling\"],\n",
    "\t\"learning_rate_init\": [0.001, 0.01, 0.1],\n",
    "\t\"max_iter\": [200, 300, 400, 500],\n",
    "\t\"alpha\": [0.0001, 0.001, 0.01],\n",
    "\t\"batch_size\": [\"auto\", 32, 64, 128],\n",
    "}"
   ]
  },
  {
   "cell_type": "code",
   "execution_count": null,
   "id": "fe0b9d081c1c2da0",
   "metadata": {},
   "outputs": [],
   "source": [
    "best_classifiers: dict = {}\n",
    "for label in label_columns:\n",
    "\tprint(f\"Tune classifier for {label}\")\n",
    "\tclassifier = MLPClassifier(random_state=37)\n",
    "\n",
    "\ttuner = HalvingRandomSearchCV(\n",
    "\t\tclassifier, hyperparameter_grid, n_candidates=50, factor=3, cv=5, scoring=\"roc_auc_ovr\", n_jobs=-1, verbose=1\n",
    "\t)\n",
    "\n",
    "\ttuner.fit(train_data, train_label[label])\n",
    "\n",
    "\tbest_classifiers[label] = tuner.best_estimator_\n",
    "\n",
    "\ty_pred_proba = best_classifiers[label].predict_proba(validation_data)[:, 1]\n",
    "\tauc_score = roc_auc_score(validation_label[label], y_pred_proba, multi_class=\"ovr\")\n",
    "\tprint(f\"AUC score of {label} classifier: {auc_score:.4f}\")"
   ]
  },
  {
   "cell_type": "code",
   "execution_count": null,
   "id": "be3f8c2a44f67456",
   "metadata": {},
   "outputs": [],
   "source": [
    "test_data: polars.DataFrame = scaler.transform(dataset[\"test\"].select_columns(data_columns).to_polars().to_numpy())"
   ]
  },
  {
   "cell_type": "code",
   "execution_count": null,
   "id": "99ff4620dbe968a3",
   "metadata": {},
   "outputs": [],
   "source": [
    "predictions: dict = {\"data_ID\": dataset[\"test\"][\"data_ID\"]}\n",
    "for label in label_columns:\n",
    "\tpredictions[label] = best_classifiers[label].predict(test_data).tolist()"
   ]
  },
  {
   "cell_type": "code",
   "execution_count": null,
   "id": "14037b48dcd20ba3",
   "metadata": {},
   "outputs": [],
   "source": [
    "test_result = Dataset.from_dict(predictions)"
   ]
  },
  {
   "cell_type": "code",
   "execution_count": null,
   "id": "fd04dba0dc5e780c",
   "metadata": {},
   "outputs": [],
   "source": [
    "test_result"
   ]
  },
  {
   "cell_type": "code",
   "execution_count": null,
   "id": "2c4a4c413d0d5ff1",
   "metadata": {},
   "outputs": [],
   "source": [
    "test_result.to_csv(\"../dist/result_mp.csv\", num_proc=8)"
   ]
  },
  {
   "cell_type": "code",
   "execution_count": null,
   "id": "2032c4bd1b1591f0",
   "metadata": {},
   "outputs": [],
   "source": []
  }
 ],
 "metadata": {
  "kernelspec": {
   "display_name": "Python 3",
   "language": "python",
   "name": "python3"
  },
  "language_info": {
   "codemirror_mode": {
    "name": "ipython",
    "version": 2
   },
   "file_extension": ".py",
   "mimetype": "text/x-python",
   "name": "python",
   "nbconvert_exporter": "python",
   "pygments_lexer": "ipython2",
   "version": "2.7.6"
  }
 },
 "nbformat": 4,
 "nbformat_minor": 5
}
