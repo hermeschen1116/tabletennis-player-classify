{
 "cells": [
  {
   "cell_type": "code",
   "execution_count": 1,
   "id": "b8808cc8131b2a0c",
   "metadata": {
    "ExecuteTime": {
     "end_time": "2024-11-04T05:19:41.117892Z",
     "start_time": "2024-11-04T05:19:39.937671Z"
    }
   },
   "outputs": [],
   "source": [
    "from typing import Any\n",
    "\n",
    "import numpy\n",
    "import polars\n",
    "from datasets import Dataset, load_dataset\n",
    "from sklearn.model_selection import RandomizedSearchCV, train_test_split\n",
    "from sklearn.neural_network import MLPClassifier\n",
    "from sklearn.preprocessing import StandardScaler"
   ]
  },
  {
   "cell_type": "code",
   "execution_count": 2,
   "id": "6fef8ede45c876e7",
   "metadata": {
    "ExecuteTime": {
     "end_time": "2024-11-04T05:19:42.178175Z",
     "start_time": "2024-11-04T05:19:41.121362Z"
    }
   },
   "outputs": [],
   "source": [
    "dataset = load_dataset(\n",
    "\t\"csv\", data_dir=\"../data\", data_files={\"train\": \"train.csv\", \"test\": \"test.csv\"}, keep_in_memory=True, num_proc=8\n",
    ")"
   ]
  },
  {
   "cell_type": "code",
   "execution_count": 3,
   "id": "1925e8cfc043e92f",
   "metadata": {
    "ExecuteTime": {
     "end_time": "2024-11-04T05:19:42.305690Z",
     "start_time": "2024-11-04T05:19:42.303416Z"
    }
   },
   "outputs": [],
   "source": [
    "index_columns: list = [\"data_ID\", \"player_ID\"]\n",
    "label_columns: list = [\"gender\", \"hold racket handed\", \"play years\", \"level\"]\n",
    "data_columns: list = list(set(dataset[\"train\"].column_names).difference(set(index_columns + label_columns)))"
   ]
  },
  {
   "cell_type": "code",
   "execution_count": 4,
   "id": "984dccb5894e720",
   "metadata": {
    "ExecuteTime": {
     "end_time": "2024-11-04T05:19:42.312829Z",
     "start_time": "2024-11-04T05:19:42.309561Z"
    }
   },
   "outputs": [
    {
     "data": {
      "text/plain": [
       "['gy_var',\n",
       " 'gx_var',\n",
       " 'a_kurt',\n",
       " 'g_fft',\n",
       " 'gx_mean',\n",
       " 'a_psd',\n",
       " 'g_entropy',\n",
       " 'az_var',\n",
       " 'g_min',\n",
       " 'gz_var',\n",
       " 'a_fft',\n",
       " 'g_kurt',\n",
       " 'gy_mean',\n",
       " 'ax_mean',\n",
       " 'az_mean',\n",
       " 'a_max',\n",
       " 'gx_rms',\n",
       " 'a_mean',\n",
       " 'a_min',\n",
       " 'ax_rms',\n",
       " 'gz_rms',\n",
       " 'g_psd',\n",
       " 'g_mean',\n",
       " 'gz_mean',\n",
       " 'g_max',\n",
       " 'ay_rms',\n",
       " 'gy_rms',\n",
       " 'a_skewn',\n",
       " 'a_entropy',\n",
       " 'ax_var',\n",
       " 'az_rms',\n",
       " 'g_skewn',\n",
       " 'ay_mean',\n",
       " 'ay_var']"
      ]
     },
     "execution_count": 4,
     "metadata": {},
     "output_type": "execute_result"
    }
   ],
   "source": [
    "data_columns"
   ]
  },
  {
   "cell_type": "code",
   "execution_count": 5,
   "id": "6ca982894cdd9ea3",
   "metadata": {
    "ExecuteTime": {
     "end_time": "2024-11-04T05:19:42.319299Z",
     "start_time": "2024-11-04T05:19:42.317434Z"
    }
   },
   "outputs": [],
   "source": [
    "scaler = StandardScaler()"
   ]
  },
  {
   "cell_type": "code",
   "execution_count": 6,
   "id": "341afdb74eb90c0f",
   "metadata": {
    "ExecuteTime": {
     "end_time": "2024-11-04T05:19:42.345277Z",
     "start_time": "2024-11-04T05:19:42.326383Z"
    }
   },
   "outputs": [],
   "source": [
    "train_dataset: polars.DataFrame = dataset[\"train\"].to_polars()\n",
    "train_data: numpy.ndarray = scaler.fit_transform(train_dataset[data_columns].to_numpy())\n",
    "train_data, validation_data, t_label, v_label = train_test_split(\n",
    "\ttrain_data, train_dataset[label_columns].to_numpy(), test_size=0.1, random_state=37\n",
    ")\n",
    "train_label: dict[str, numpy.ndarray] = {label: t_label[:, i] for i, label in enumerate(label_columns)}\n",
    "validation_label: dict[str, numpy.ndarray] = {label: v_label[:, i] for i, label in enumerate(label_columns)}"
   ]
  },
  {
   "cell_type": "code",
   "execution_count": 7,
   "id": "2f0425220acd9019",
   "metadata": {
    "ExecuteTime": {
     "end_time": "2024-11-04T05:19:42.358273Z",
     "start_time": "2024-11-04T05:19:42.351517Z"
    }
   },
   "outputs": [],
   "source": [
    "hyperparameter_grid: dict[str, list[Any]] = {\n",
    "\t\"hidden_layer_sizes\": [(50,), (100,), (200,), (50, 50), (100, 50), (100, 100)],\n",
    "\t\"activation\": [\"identity\", \"logistic\", \"tanh\", \"relu\"],\n",
    "\t\"solver\": [\"adam\", \"sgd\", \"lbfgs\"],\n",
    "\t\"learning_rate\": [\"constant\", \"adaptive\", \"invscaling\"],\n",
    "\t\"learning_rate_init\": [0.001, 0.01, 0.1],\n",
    "\t\"max_iter\": [200, 300, 400, 500],\n",
    "\t\"alpha\": [0.0001, 0.001, 0.01],\n",
    "\t\"batch_size\": [\"auto\", 32, 64, 128],\n",
    "}"
   ]
  },
  {
   "cell_type": "code",
   "execution_count": 8,
   "id": "fe0b9d081c1c2da0",
   "metadata": {
    "ExecuteTime": {
     "end_time": "2024-11-04T05:21:46.665047Z",
     "start_time": "2024-11-04T05:19:42.367631Z"
    }
   },
   "outputs": [
    {
     "name": "stdout",
     "output_type": "stream",
     "text": [
      "Tune classifier for gender\n",
      "Fitting 5 folds for each of 1 candidates, totalling 5 fits\n",
      "Tune classifier for hold racket handed\n",
      "Fitting 5 folds for each of 1 candidates, totalling 5 fits\n",
      "Tune classifier for play years\n",
      "Fitting 5 folds for each of 1 candidates, totalling 5 fits\n",
      "Tune classifier for level\n",
      "Fitting 5 folds for each of 1 candidates, totalling 5 fits\n"
     ]
    },
    {
     "name": "stderr",
     "output_type": "stream",
     "text": [
      "/Users/hermeschen/Repo/tabletenis-player-classify/.venv/lib/python3.12/site-packages/sklearn/neural_network/_multilayer_perceptron.py:659: ConvergenceWarning: Stochastic Optimizer: Maximum iterations (400) reached and the optimization hasn't converged yet.\n",
      "  warnings.warn(\n",
      "/Users/hermeschen/Repo/tabletenis-player-classify/.venv/lib/python3.12/site-packages/sklearn/neural_network/_multilayer_perceptron.py:659: ConvergenceWarning: Stochastic Optimizer: Maximum iterations (400) reached and the optimization hasn't converged yet.\n",
      "  warnings.warn(\n",
      "/Users/hermeschen/Repo/tabletenis-player-classify/.venv/lib/python3.12/site-packages/sklearn/neural_network/_multilayer_perceptron.py:659: ConvergenceWarning: Stochastic Optimizer: Maximum iterations (400) reached and the optimization hasn't converged yet.\n",
      "  warnings.warn(\n",
      "/Users/hermeschen/Repo/tabletenis-player-classify/.venv/lib/python3.12/site-packages/sklearn/neural_network/_multilayer_perceptron.py:659: ConvergenceWarning: Stochastic Optimizer: Maximum iterations (400) reached and the optimization hasn't converged yet.\n",
      "  warnings.warn(\n",
      "/Users/hermeschen/Repo/tabletenis-player-classify/.venv/lib/python3.12/site-packages/sklearn/neural_network/_multilayer_perceptron.py:659: ConvergenceWarning: Stochastic Optimizer: Maximum iterations (400) reached and the optimization hasn't converged yet.\n",
      "  warnings.warn(\n",
      "/Users/hermeschen/Repo/tabletenis-player-classify/.venv/lib/python3.12/site-packages/sklearn/neural_network/_multilayer_perceptron.py:659: ConvergenceWarning: Stochastic Optimizer: Maximum iterations (400) reached and the optimization hasn't converged yet.\n",
      "  warnings.warn(\n"
     ]
    }
   ],
   "source": [
    "best_classifiers: dict = {}\n",
    "for label in label_columns:\n",
    "\tprint(f\"Tune classifier for {label}\")\n",
    "\tclassifier = MLPClassifier(random_state=37)\n",
    "\n",
    "\ttuner = RandomizedSearchCV(\n",
    "\t\tclassifier, hyperparameter_grid, n_iter=50, cv=5, scoring=\"roc_auc_ovr\", n_jobs=-1, verbose=10\n",
    "\t)\n",
    "\n",
    "\ttuner.fit(train_data, train_label[label])\n",
    "\n",
    "\tbest_classifiers[label] = tuner.best_estimator_"
   ]
  },
  {
   "cell_type": "code",
   "execution_count": 9,
   "id": "be3f8c2a44f67456",
   "metadata": {
    "ExecuteTime": {
     "end_time": "2024-11-04T05:21:46.694377Z",
     "start_time": "2024-11-04T05:21:46.681399Z"
    }
   },
   "outputs": [],
   "source": [
    "test_data: polars.DataFrame = scaler.transform(dataset[\"test\"].select_columns(data_columns).to_polars().to_numpy())"
   ]
  },
  {
   "cell_type": "code",
   "execution_count": 10,
   "id": "99ff4620dbe968a3",
   "metadata": {
    "ExecuteTime": {
     "end_time": "2024-11-04T05:21:46.734960Z",
     "start_time": "2024-11-04T05:21:46.707156Z"
    }
   },
   "outputs": [],
   "source": [
    "predictions: dict = {\"data_ID\": dataset[\"test\"][\"data_ID\"]}\n",
    "for label in label_columns:\n",
    "\tpredictions[label] = best_classifiers[label].predict(test_data).tolist()"
   ]
  },
  {
   "cell_type": "code",
   "execution_count": 11,
   "id": "14037b48dcd20ba3",
   "metadata": {
    "ExecuteTime": {
     "end_time": "2024-11-04T05:21:46.762371Z",
     "start_time": "2024-11-04T05:21:46.745291Z"
    }
   },
   "outputs": [],
   "source": [
    "test_result = Dataset.from_dict(predictions)"
   ]
  },
  {
   "cell_type": "code",
   "execution_count": 12,
   "id": "fdb952b72d0dca05",
   "metadata": {
    "ExecuteTime": {
     "end_time": "2024-11-04T05:21:47.046479Z",
     "start_time": "2024-11-04T05:21:46.772514Z"
    }
   },
   "outputs": [
    {
     "data": {
      "application/vnd.jupyter.widget-view+json": {
       "model_id": "aee3ce311fb04d4f9374565038c76306",
       "version_major": 2,
       "version_minor": 0
      },
      "text/plain": [
       "Map (num_proc=8):   0%|          | 0/7488 [00:00<?, ? examples/s]"
      ]
     },
     "metadata": {},
     "output_type": "display_data"
    }
   ],
   "source": [
    "test_result = test_result.map(\n",
    "\tlambda samples: {\n",
    "\t\t\"play years_0\": [1 if sample == 0 else 0 for sample in samples],\n",
    "\t\t\"play years_1\": [1 if sample == 1 else 0 for sample in samples],\n",
    "\t\t\"play years_2\": [1 if sample == 2 else 0 for sample in samples],\n",
    "\t},\n",
    "\tinput_columns=[\"play years\"],\n",
    "\tremove_columns=[\"play years\"],\n",
    "\tbatched=True,\n",
    "\tnum_proc=8,\n",
    ")"
   ]
  },
  {
   "cell_type": "code",
   "execution_count": 13,
   "id": "3261e2a4df242879",
   "metadata": {
    "ExecuteTime": {
     "end_time": "2024-11-04T05:21:47.706490Z",
     "start_time": "2024-11-04T05:21:47.057667Z"
    }
   },
   "outputs": [
    {
     "data": {
      "application/vnd.jupyter.widget-view+json": {
       "model_id": "0453b8e01e864fb893371991f2be4e4f",
       "version_major": 2,
       "version_minor": 0
      },
      "text/plain": [
       "Map (num_proc=8):   0%|          | 0/7488 [00:00<?, ? examples/s]"
      ]
     },
     "metadata": {},
     "output_type": "display_data"
    }
   ],
   "source": [
    "test_result = test_result.map(\n",
    "\tlambda samples: {\n",
    "\t\t\"level_0\": [1 if sample == 0 else 0 for sample in samples],\n",
    "\t\t\"level_1\": [1 if sample == 1 else 0 for sample in samples],\n",
    "\t\t\"level_2\": [1 if sample == 2 else 0 for sample in samples],\n",
    "\t},\n",
    "\tinput_columns=[\"level\"],\n",
    "\tremove_columns=[\"level\"],\n",
    "\tbatched=True,\n",
    "\tnum_proc=8,\n",
    ")"
   ]
  },
  {
   "cell_type": "code",
   "execution_count": 14,
   "id": "fd04dba0dc5e780c",
   "metadata": {
    "ExecuteTime": {
     "end_time": "2024-11-04T05:21:47.720605Z",
     "start_time": "2024-11-04T05:21:47.717170Z"
    }
   },
   "outputs": [
    {
     "data": {
      "text/plain": [
       "Dataset({\n",
       "    features: ['data_ID', 'gender', 'hold racket handed', 'play years_0', 'play years_1', 'play years_2', 'level_0', 'level_1', 'level_2'],\n",
       "    num_rows: 7488\n",
       "})"
      ]
     },
     "execution_count": 14,
     "metadata": {},
     "output_type": "execute_result"
    }
   ],
   "source": [
    "test_result"
   ]
  },
  {
   "cell_type": "code",
   "execution_count": 15,
   "id": "2c4a4c413d0d5ff1",
   "metadata": {
    "ExecuteTime": {
     "end_time": "2024-11-04T05:21:47.740813Z",
     "start_time": "2024-11-04T05:21:47.735701Z"
    }
   },
   "outputs": [],
   "source": [
    "test_result.to_csv(\"../dist/result_mp.csv\", num_proc=8)"
   ]
  },
  {
   "cell_type": "code",
   "execution_count": null,
   "id": "2032c4bd1b1591f0",
   "metadata": {
    "ExecuteTime": {
     "end_time": "2024-11-04T05:21:47.761293Z",
     "start_time": "2024-11-04T05:21:47.759126Z"
    }
   },
   "outputs": [],
   "source": []
  }
 ],
 "metadata": {
  "kernelspec": {
   "display_name": "Python 3",
   "language": "python",
   "name": "python3"
  },
  "language_info": {
   "codemirror_mode": {
    "name": "ipython",
    "version": 2
   },
   "file_extension": ".py",
   "mimetype": "text/x-python",
   "name": "python",
   "nbconvert_exporter": "python",
   "pygments_lexer": "ipython2",
   "version": "2.7.6"
  }
 },
 "nbformat": 4,
 "nbformat_minor": 5
}
