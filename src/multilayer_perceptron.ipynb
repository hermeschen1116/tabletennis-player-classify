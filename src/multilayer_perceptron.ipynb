{
 "cells": [
  {
   "cell_type": "code",
   "execution_count": null,
   "id": "b8808cc8131b2a0c",
   "metadata": {},
   "outputs": [],
   "source": [
    "from typing import Any\n",
    "\n",
    "import numpy\n",
    "import polars\n",
    "from datasets import Dataset, load_dataset\n",
    "from sklearn.model_selection import RandomizedSearchCV\n",
    "from sklearn.neural_network import MLPClassifier\n",
    "from sklearn.preprocessing import MinMaxScaler"
   ]
  },
  {
   "cell_type": "code",
   "execution_count": null,
   "id": "6fef8ede45c876e7",
   "metadata": {},
   "outputs": [],
   "source": [
    "dataset = load_dataset(\n",
    "\t\"csv\", data_dir=\"../data\", data_files={\"train\": \"train.csv\", \"test\": \"test.csv\"}, keep_in_memory=True, num_proc=8\n",
    ")"
   ]
  },
  {
   "cell_type": "code",
   "execution_count": null,
   "id": "1925e8cfc043e92f",
   "metadata": {},
   "outputs": [],
   "source": [
    "index_columns: list = [\"data_ID\", \"player_ID\"]\n",
    "label_columns: list = [\"gender\", \"hold racket handed\", \"play years\", \"level\"]\n",
    "data_columns: list = list(set(dataset[\"train\"].column_names).difference(set(index_columns + label_columns)))"
   ]
  },
  {
   "cell_type": "code",
   "execution_count": null,
   "id": "6ca982894cdd9ea3",
   "metadata": {},
   "outputs": [],
   "source": [
    "scaler = MinMaxScaler()\n",
    "scaler.fit(dataset[\"train\"].to_polars()[data_columns].to_numpy())"
   ]
  },
  {
   "cell_type": "code",
   "execution_count": null,
   "id": "fec5127582b3b973",
   "metadata": {},
   "outputs": [],
   "source": [
    "train_dataset: polars.DataFrame = dataset[\"train\"].to_polars()\n",
    "train_data: numpy.ndarray = scaler.transform(train_dataset[data_columns].to_numpy())\n",
    "train_label: dict[str, numpy.ndarray] = {label: train_dataset[label].to_numpy() for label in label_columns}"
   ]
  },
  {
   "cell_type": "code",
   "execution_count": null,
   "id": "2f0425220acd9019",
   "metadata": {},
   "outputs": [],
   "source": [
    "hyperparameter_grid: dict[str, list[Any]] = {\n",
    "\t\"hidden_layer_sizes\": [(50,), (100,), (50, 50), (100, 50), (100, 100)],  # 隱藏層層數及神經元數\n",
    "\t\"activation\": [\"identity\", \"logistic\", \"tanh\", \"relu\"],  # 激活函數\n",
    "\t\"solver\": [\"lbfgs\", \"sgd\", \"adam\"],  # 權重優化器\n",
    "\t\"alpha\": [0.0001, 0.001, 0.01, 0.1],  # L2 正則化係數\n",
    "\t\"learning_rate\": [\"constant\", \"invscaling\", \"adaptive\"],  # 學習率調整方式\n",
    "\t\"learning_rate_init\": [0.001, 0.01, 0.1],  # 初始學習率\n",
    "\t\"max_iter\": [200, 300, 500],  # 最大迭代次數\n",
    "\t\"tol\": [1e-4, 1e-3, 1e-2],  # 收斂公差\n",
    "\t\"momentum\": [0.9, 0.95, 0.99],  # 動量（僅對 solver='sgd' 有效）\n",
    "\t\"nesterovs_momentum\": [True, False],  # 是否使用 Nesterov 動量（僅對 solver='sgd' 有效）\n",
    "\t\"early_stopping\": [True, False],  # 是否使用早期停止\n",
    "\t\"validation_fraction\": [0.1, 0.2, 0.3],  # 用於早期停止的驗證集比例\n",
    "\t\"beta_1\": [0.9, 0.95, 0.99],  # Adam 優化的第一個動量參數（僅對 solver='adam' 有效）\n",
    "\t\"beta_2\": [0.999, 0.995, 0.99],  # Adam 優化的第二個動量參數（僅對 solver='adam' 有效）\n",
    "\t\"epsilon\": [1e-8, 1e-7, 1e-6],  # Adam 優化中的數值穩定項（僅對 solver='adam' 有效）\n",
    "}"
   ]
  },
  {
   "cell_type": "code",
   "execution_count": null,
   "id": "fe0b9d081c1c2da0",
   "metadata": {},
   "outputs": [],
   "source": [
    "best_classifiers: dict = {}\n",
    "for label in label_columns:\n",
    "\tprint(f\"Tune classifier for {label}\")\n",
    "\tclassifier = MLPClassifier(random_state=37)\n",
    "\n",
    "\tscoring: str = \"roc_auc\" if label in [\"gender\", \"hold racket handed\"] else \"roc_auc_ovr\"\n",
    "\ttuner = RandomizedSearchCV(\n",
    "\t\tclassifier, hyperparameter_grid, n_iter=100, cv=5, scoring=scoring, n_jobs=-1, verbose=10\n",
    "\t)\n",
    "\n",
    "\ttuner.fit(train_data, train_label[label])\n",
    "\n",
    "\tbest_classifiers[label] = tuner.best_estimator_"
   ]
  },
  {
   "cell_type": "code",
   "execution_count": null,
   "id": "be3f8c2a44f67456",
   "metadata": {},
   "outputs": [],
   "source": [
    "test_data: polars.DataFrame = scaler.transform(dataset[\"test\"].select_columns(data_columns).to_polars().to_numpy())"
   ]
  },
  {
   "cell_type": "code",
   "execution_count": null,
   "id": "99ff4620dbe968a3",
   "metadata": {},
   "outputs": [],
   "source": [
    "predictions: dict = {\"data_ID\": dataset[\"test\"][\"data_ID\"]}\n",
    "for label in label_columns:\n",
    "\tpredictions[label] = best_classifiers[label].predict(test_data).tolist()"
   ]
  },
  {
   "cell_type": "code",
   "execution_count": null,
   "id": "14037b48dcd20ba3",
   "metadata": {},
   "outputs": [],
   "source": [
    "test_result = Dataset.from_dict(predictions)"
   ]
  },
  {
   "cell_type": "code",
   "execution_count": null,
   "id": "fdb952b72d0dca05",
   "metadata": {},
   "outputs": [],
   "source": [
    "test_result = test_result.map(\n",
    "\tlambda samples: {\n",
    "\t\t\"play years_0\": [1 if sample == 0 else 0 for sample in samples],\n",
    "\t\t\"play years_1\": [1 if sample == 1 else 0 for sample in samples],\n",
    "\t\t\"play years_2\": [1 if sample == 2 else 0 for sample in samples],\n",
    "\t},\n",
    "\tinput_columns=[\"play years\"],\n",
    "\tremove_columns=[\"play years\"],\n",
    "\tbatched=True,\n",
    "\tnum_proc=8,\n",
    ")"
   ]
  },
  {
   "cell_type": "code",
   "execution_count": null,
   "id": "3261e2a4df242879",
   "metadata": {},
   "outputs": [],
   "source": [
    "test_result = test_result.map(\n",
    "\tlambda samples: {\n",
    "\t\t\"level_0\": [1 if sample == 0 else 0 for sample in samples],\n",
    "\t\t\"level_1\": [1 if sample == 1 else 0 for sample in samples],\n",
    "\t\t\"level_2\": [1 if sample == 2 else 0 for sample in samples],\n",
    "\t},\n",
    "\tinput_columns=[\"level\"],\n",
    "\tremove_columns=[\"level\"],\n",
    "\tbatched=True,\n",
    "\tnum_proc=8,\n",
    ")"
   ]
  },
  {
   "cell_type": "code",
   "execution_count": null,
   "id": "fd04dba0dc5e780c",
   "metadata": {},
   "outputs": [],
   "source": [
    "test_result"
   ]
  },
  {
   "cell_type": "code",
   "execution_count": null,
   "id": "2c4a4c413d0d5ff1",
   "metadata": {},
   "outputs": [],
   "source": [
    "test_result.to_csv(\"../dist/result_mp.csv\", num_proc=8)"
   ]
  },
  {
   "cell_type": "code",
   "execution_count": null,
   "id": "2032c4bd1b1591f0",
   "metadata": {},
   "outputs": [],
   "source": []
  }
 ],
 "metadata": {
  "kernelspec": {
   "display_name": "Python 3",
   "language": "python",
   "name": "python3"
  },
  "language_info": {
   "codemirror_mode": {
    "name": "ipython",
    "version": 2
   },
   "file_extension": ".py",
   "mimetype": "text/x-python",
   "name": "python",
   "nbconvert_exporter": "python",
   "pygments_lexer": "ipython2",
   "version": "2.7.6"
  }
 },
 "nbformat": 4,
 "nbformat_minor": 5
}
